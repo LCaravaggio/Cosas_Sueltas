{
  "nbformat": 4,
  "nbformat_minor": 0,
  "metadata": {
    "colab": {
      "name": "Partir base.ipynb",
      "provenance": [],
      "authorship_tag": "ABX9TyM0msH3Nv7UO32b94PszqhM",
      "include_colab_link": true
    },
    "kernelspec": {
      "name": "python3",
      "display_name": "Python 3"
    },
    "language_info": {
      "name": "python"
    }
  },
  "cells": [
    {
      "cell_type": "markdown",
      "metadata": {
        "id": "view-in-github",
        "colab_type": "text"
      },
      "source": [
        "<a href=\"https://colab.research.google.com/github/LCaravaggio/Cosas_Sueltas/blob/main/Partir_base.ipynb\" target=\"_parent\"><img src=\"https://colab.research.google.com/assets/colab-badge.svg\" alt=\"Open In Colab\"/></a>"
      ]
    },
    {
      "cell_type": "code",
      "execution_count": 20,
      "metadata": {
        "id": "6VclqmfMri8Z"
      },
      "outputs": [],
      "source": [
        "import pandas as pd\n",
        "from sklearn.model_selection import train_test_split"
      ]
    },
    {
      "cell_type": "code",
      "source": [
        "base=pd.read_csv(\"https://www.openml.org/data/get_csv/150679/BNG_auto_price.arff\")"
      ],
      "metadata": {
        "id": "ikJpphpZrkeJ"
      },
      "execution_count": 21,
      "outputs": []
    },
    {
      "cell_type": "code",
      "source": [
        "base_train, base_val = train_test_split(base, test_size=0.2, random_state=42, shuffle=False)"
      ],
      "metadata": {
        "id": "3V4MV9PjuPFZ"
      },
      "execution_count": 25,
      "outputs": []
    },
    {
      "cell_type": "code",
      "source": [
        "price=base_val.price"
      ],
      "metadata": {
        "id": "ORiK1zX9yoI4"
      },
      "execution_count": 27,
      "outputs": []
    },
    {
      "cell_type": "code",
      "source": [
        "base_val.drop(\"price\", axis=1, inplace=True)"
      ],
      "metadata": {
        "id": "zu_kIBuvuoe1"
      },
      "execution_count": 29,
      "outputs": []
    },
    {
      "cell_type": "code",
      "source": [
        "price.to_csv(\"/content/sample_data/price.csv\")"
      ],
      "metadata": {
        "id": "eWFhZ5j2zrZM"
      },
      "execution_count": 31,
      "outputs": []
    },
    {
      "cell_type": "code",
      "source": [
        "base_val.to_csv(\"/content/sample_data/base_val.csv\")"
      ],
      "metadata": {
        "id": "Khje7rO0z8hh"
      },
      "execution_count": 32,
      "outputs": []
    },
    {
      "cell_type": "code",
      "source": [
        "base_train.to_csv(\"/content/sample_data/base_train.csv\")"
      ],
      "metadata": {
        "id": "q9_ayzz-z_Wr"
      },
      "execution_count": 33,
      "outputs": []
    }
  ]
}