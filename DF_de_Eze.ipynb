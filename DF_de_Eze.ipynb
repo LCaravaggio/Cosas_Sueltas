{
  "nbformat": 4,
  "nbformat_minor": 0,
  "metadata": {
    "colab": {
      "provenance": [],
      "authorship_tag": "ABX9TyNab7c/8tdc2aiS0Ue+m+OE",
      "include_colab_link": true
    },
    "kernelspec": {
      "name": "python3",
      "display_name": "Python 3"
    },
    "language_info": {
      "name": "python"
    }
  },
  "cells": [
    {
      "cell_type": "markdown",
      "metadata": {
        "id": "view-in-github",
        "colab_type": "text"
      },
      "source": [
        "<a href=\"https://colab.research.google.com/github/LCaravaggio/Cosas_Sueltas/blob/main/DF_de_Eze.ipynb\" target=\"_parent\"><img src=\"https://colab.research.google.com/assets/colab-badge.svg\" alt=\"Open In Colab\"/></a>"
      ]
    },
    {
      "cell_type": "code",
      "source": [
        "import pandas as pd\n",
        "from sklearn.model_selection import train_test_split"
      ],
      "metadata": {
        "id": "KP7m031rtJiB"
      },
      "execution_count": 1,
      "outputs": []
    },
    {
      "cell_type": "code",
      "source": [
        "import pandas as pd\n",
        "import numpy as np\n",
        "from matplotlib import pyplot as plt"
      ],
      "metadata": {
        "id": "haiLGNFeyxSM"
      },
      "execution_count": 2,
      "outputs": []
    },
    {
      "cell_type": "code",
      "execution_count": 3,
      "metadata": {
        "id": "w7LHXwlMsuef"
      },
      "outputs": [],
      "source": [
        "datasets=pd.read_pickle('/df_num.pkl')"
      ]
    },
    {
      "cell_type": "code",
      "source": [
        "datasets=datasets.dropna()"
      ],
      "metadata": {
        "id": "I_sSVG-3wa2G"
      },
      "execution_count": 4,
      "outputs": []
    },
    {
      "cell_type": "code",
      "source": [
        "df_train, df_test=train_test_split(datasets, test_size=0.2, random_state=0)"
      ],
      "metadata": {
        "id": "pRdy4UixuXm_"
      },
      "execution_count": 5,
      "outputs": []
    },
    {
      "cell_type": "code",
      "source": [
        "X_train=df_train.drop(columns=['Clase'])\n",
        "X_test=df_test.drop(columns=['Clase'])\n",
        "Y_train=df_train['Clase'].values\n",
        "Y_test=df_test['Clase'].values"
      ],
      "metadata": {
        "id": "K-_6ZKDGu_hT"
      },
      "execution_count": 6,
      "outputs": []
    },
    {
      "cell_type": "code",
      "source": [
        "from sklearn.ensemble import ExtraTreesClassifier"
      ],
      "metadata": {
        "id": "imUHi-XuvVaR"
      },
      "execution_count": 7,
      "outputs": []
    },
    {
      "cell_type": "code",
      "source": [
        "et = ExtraTreesClassifier()"
      ],
      "metadata": {
        "id": "41Y0H6ICvvM0"
      },
      "execution_count": 8,
      "outputs": []
    },
    {
      "cell_type": "code",
      "source": [
        "X_train.shape"
      ],
      "metadata": {
        "colab": {
          "base_uri": "https://localhost:8080/"
        },
        "id": "fHGtM3U3wUsi",
        "outputId": "bd339d79-2e91-4798-f683-67e39f9b5cf0"
      },
      "execution_count": 9,
      "outputs": [
        {
          "output_type": "execute_result",
          "data": {
            "text/plain": [
              "(18633, 135)"
            ]
          },
          "metadata": {},
          "execution_count": 9
        }
      ]
    },
    {
      "cell_type": "code",
      "source": [
        "def plotBoundaryDT(data, labels, X_test,y_test, clf_1=None, N=20):\n",
        "    class_1 = data[labels == 1]\n",
        "    class_0 = data[labels == 0]\n",
        "    mins = data[:,:2].min(axis=0)\n",
        "    maxs = data[:,:2].max(axis=0)\n",
        "    x1 = np.linspace(mins[0], maxs[0], N)\n",
        "    x2 = np.linspace(mins[1], maxs[1], N)\n",
        "    x1, x2 = np.meshgrid(x1, x2)\n",
        "    X=np.c_[x1.flatten(), x2.flatten()]\n",
        "    fig = plt.figure(figsize=(18,6))\n",
        "    plt.subplot(121)\n",
        "    ax = fig.gca()\n",
        "    cm = plt.cm.RdBu\n",
        "    if(clf_1):\n",
        "        Z_nn = clf_1.predict_proba(X)[:, 0]\n",
        "        # Put the result into a color plot\n",
        "        Z_nn = Z_nn.reshape(x1.shape)\n",
        "        ax.contourf(x1, x2, Z_nn,cmap=plt.cm.RdYlBu)\n",
        "    #ax.scatter(class_1[:,0], class_1[:,1], color='r', s=20, alpha=0.5)\n",
        "    #ax.scatter(class_0[:,0], class_0[:,1], color='b', s=20, alpha=0.5)\n",
        "    class_1 = X_test[y_test == 1]\n",
        "    class_0 = X_test[y_test == 0]\n",
        "    plt.subplot(122)\n",
        "    ax = fig.gca()\n",
        "    cm = plt.cm.RdBu\n",
        "    if(clf_1):\n",
        "        Z_nn = clf_1.predict_proba(X)[:, 0]\n",
        "        # Put the result into a color plot\n",
        "        Z_nn = Z_nn.reshape(x1.shape)\n",
        "        ax.contourf(x1, x2, Z_nn,cmap=plt.cm.RdYlBu)\n",
        "    ax.scatter(class_1[:,0], class_1[:,1], color='r', s=20, alpha=0.5)\n",
        "    ax.scatter(class_0[:,0], class_0[:,1], color='b', s=20, alpha=0.5)"
      ],
      "metadata": {
        "id": "WB-eo1eqwlcU"
      },
      "execution_count": 10,
      "outputs": []
    },
    {
      "cell_type": "code",
      "source": [
        "vars=['desc_agrupacion_rubro_bain_ordinal','ds_estado_establecimiento_ordinal']"
      ],
      "metadata": {
        "id": "U7P9uRcZyKPE"
      },
      "execution_count": 12,
      "outputs": []
    },
    {
      "cell_type": "code",
      "source": [
        "train=X_train[vars].to_numpy()\n",
        "test=X_test[vars].to_numpy()"
      ],
      "metadata": {
        "id": "dNbu9QLyx-v9"
      },
      "execution_count": 13,
      "outputs": []
    },
    {
      "cell_type": "code",
      "source": [
        "et.fit(train,Y_train)"
      ],
      "metadata": {
        "colab": {
          "base_uri": "https://localhost:8080/"
        },
        "id": "_JaFvufvvwy_",
        "outputId": "4531c7bb-db3b-41d0-894e-3e78c2eab655"
      },
      "execution_count": 14,
      "outputs": [
        {
          "output_type": "execute_result",
          "data": {
            "text/plain": [
              "ExtraTreesClassifier()"
            ]
          },
          "metadata": {},
          "execution_count": 14
        }
      ]
    },
    {
      "cell_type": "code",
      "source": [
        "plotBoundaryDT(train,Y_train,test,Y_test,et,N=500)"
      ],
      "metadata": {
        "colab": {
          "base_uri": "https://localhost:8080/",
          "height": 378
        },
        "id": "lK5oiSelw0h9",
        "outputId": "64401371-a38f-40e4-96bd-1e208b76efc5"
      },
      "execution_count": 15,
      "outputs": [
        {
          "output_type": "display_data",
          "data": {
            "text/plain": [
              "<Figure size 1296x432 with 2 Axes>"
            ],
            "image/png": "[encoded data removed]"
          },
          "metadata": {
            "needs_background": "light"
          }
        }
      ]
    }
  ]
}