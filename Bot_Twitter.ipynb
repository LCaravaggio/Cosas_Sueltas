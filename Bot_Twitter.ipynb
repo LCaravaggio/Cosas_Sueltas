{
  "nbformat": 4,
  "nbformat_minor": 0,
  "metadata": {
    "colab": {
      "name": "Bot Twitter.ipynb",
      "provenance": [],
      "authorship_tag": "ABX9TyOsmmZ/oAKG99uxzHDBsFXp",
      "include_colab_link": true
    },
    "kernelspec": {
      "name": "python3",
      "display_name": "Python 3"
    },
    "language_info": {
      "name": "python"
    }
  },
  "cells": [
    {
      "cell_type": "markdown",
      "metadata": {
        "id": "view-in-github",
        "colab_type": "text"
      },
      "source": [
        "<a href=\"https://colab.research.google.com/github/LCaravaggio/Cosas_Sueltas/blob/main/Bot_Twitter.ipynb\" target=\"_parent\"><img src=\"https://colab.research.google.com/assets/colab-badge.svg\" alt=\"Open In Colab\"/></a>"
      ]
    },
    {
      "cell_type": "code",
      "metadata": {
        "colab": {
          "base_uri": "https://localhost:8080/"
        },
        "id": "kMS1dkhIe6tE",
        "outputId": "0ca254a5-a7f8-48ed-e9ee-2bb0a5fd4cc0"
      },
      "source": [
        "import tweepy\n",
        "\n",
        "# Authenticate to Twitter\n",
        "CK=\"\"\n",
        "CKS=\"\"\n",
        "AT=\"\"\n",
        "ATS=\"\"\n",
        "auth = tweepy.OAuthHandler(CK,CKS)\n",
        "auth.set_access_token(AT,ATS)\n",
        "\n",
        "api = tweepy.API(auth)\n",
        "\n",
        "try:\n",
        "    api.verify_credentials()\n",
        "    print(\"Authentication OK\")\n",
        "except:\n",
        "    print(\"Error during authentication\")"
      ],
      "execution_count": 89,
      "outputs": [
        {
          "output_type": "stream",
          "name": "stdout",
          "text": [
            "Authentication OK\n"
          ]
        }
      ]
    },
    {
      "cell_type": "code",
      "metadata": {
        "colab": {
          "base_uri": "https://localhost:8080/"
        },
        "id": "Nyi164IDf5hJ",
        "outputId": "525b470c-fad2-4555-f9e8-3225a55185e2"
      },
      "source": [
        "url='https://api.alphacast.io/datasets/5282/data?apiKey=ak_Vd0Zg8MVgjY9sH0Lw0g9&&$format=csv'\n",
        "urlData = requests.get(url).content\n",
        "bcra1 = pd.read_csv(io.StringIO(urlData.decode('utf-8')))\n",
        "api.update_status(bcra1['Money base change drivers - Total'][bcra1['Money base change drivers - Total'].last_valid_index()])"
      ],
      "execution_count": 90,
      "outputs": [
        {
          "output_type": "execute_result",
          "data": {
            "text/plain": [
              "Status(_api=<tweepy.api.API object at 0x7fa23af966d0>, _json={'created_at': 'Wed Sep 29 17:04:16 +0000 2021', 'id': 1443260351139680262, 'id_str': '1443260351139680262', 'text': '57184.18350961013', 'truncated': False, 'entities': {'hashtags': [], 'symbols': [], 'user_mentions': [], 'urls': []}, 'source': '<a href=\"https://help.twitter.com/en/using-twitter/how-to-tweet#source-labels\" rel=\"nofollow\">dinero_bcra</a>', 'in_reply_to_status_id': None, 'in_reply_to_status_id_str': None, 'in_reply_to_user_id': None, 'in_reply_to_user_id_str': None, 'in_reply_to_screen_name': None, 'user': {'id': 63134848, 'id_str': '63134848', 'name': 'Leonardo Caravaggio', 'screen_name': 'leocaravaggio', 'location': '', 'description': 'Economista y Data Scientist', 'url': 'https://t.co/Ti7Wciq8D3', 'entities': {'url': {'urls': [{'url': 'https://t.co/Ti7Wciq8D3', 'expanded_url': 'https://lcaravaggio.github.io/', 'display_url': 'lcaravaggio.github.io', 'indices': [0, 23]}]}, 'description': {'urls': []}}, 'protected': False, 'followers_count': 696, 'friends_count': 1307, 'listed_count': 2, 'created_at': 'Wed Aug 05 13:41:06 +0000 2009', 'favourites_count': 954, 'utc_offset': None, 'time_zone': None, 'geo_enabled': False, 'verified': False, 'statuses_count': 2510, 'lang': None, 'contributors_enabled': False, 'is_translator': False, 'is_translation_enabled': False, 'profile_background_color': '131516', 'profile_background_image_url': 'http://abs.twimg.com/images/themes/theme14/bg.gif', 'profile_background_image_url_https': 'https://abs.twimg.com/images/themes/theme14/bg.gif', 'profile_background_tile': True, 'profile_image_url': 'http://pbs.twimg.com/profile_images/1396597638405967872/pv99nT93_normal.jpg', 'profile_image_url_https': 'https://pbs.twimg.com/profile_images/1396597638405967872/pv99nT93_normal.jpg', 'profile_banner_url': 'https://pbs.twimg.com/profile_banners/63134848/1396363743', 'profile_link_color': '009999', 'profile_sidebar_border_color': 'EEEEEE', 'profile_sidebar_fill_color': 'EFEFEF', 'profile_text_color': '333333', 'profile_use_background_image': True, 'has_extended_profile': False, 'default_profile': False, 'default_profile_image': False, 'following': False, 'follow_request_sent': False, 'notifications': False, 'translator_type': 'none', 'withheld_in_countries': []}, 'geo': None, 'coordinates': None, 'place': None, 'contributors': None, 'is_quote_status': False, 'retweet_count': 0, 'favorite_count': 0, 'favorited': False, 'retweeted': False, 'lang': 'und'}, created_at=datetime.datetime(2021, 9, 29, 17, 4, 16), id=1443260351139680262, id_str='1443260351139680262', text='57184.18350961013', truncated=False, entities={'hashtags': [], 'symbols': [], 'user_mentions': [], 'urls': []}, source='dinero_bcra', source_url='https://help.twitter.com/en/using-twitter/how-to-tweet#source-labels', in_reply_to_status_id=None, in_reply_to_status_id_str=None, in_reply_to_user_id=None, in_reply_to_user_id_str=None, in_reply_to_screen_name=None, author=User(_api=<tweepy.api.API object at 0x7fa23af966d0>, _json={'id': 63134848, 'id_str': '63134848', 'name': 'Leonardo Caravaggio', 'screen_name': 'leocaravaggio', 'location': '', 'description': 'Economista y Data Scientist', 'url': 'https://t.co/Ti7Wciq8D3', 'entities': {'url': {'urls': [{'url': 'https://t.co/Ti7Wciq8D3', 'expanded_url': 'https://lcaravaggio.github.io/', 'display_url': 'lcaravaggio.github.io', 'indices': [0, 23]}]}, 'description': {'urls': []}}, 'protected': False, 'followers_count': 696, 'friends_count': 1307, 'listed_count': 2, 'created_at': 'Wed Aug 05 13:41:06 +0000 2009', 'favourites_count': 954, 'utc_offset': None, 'time_zone': None, 'geo_enabled': False, 'verified': False, 'statuses_count': 2510, 'lang': None, 'contributors_enabled': False, 'is_translator': False, 'is_translation_enabled': False, 'profile_background_color': '131516', 'profile_background_image_url': 'http://abs.twimg.com/images/themes/theme14/bg.gif', 'profile_background_image_url_https': 'https://abs.twimg.com/images/themes/theme14/bg.gif', 'profile_background_tile': True, 'profile_image_url': 'http://pbs.twimg.com/profile_images/1396597638405967872/pv99nT93_normal.jpg', 'profile_image_url_https': 'https://pbs.twimg.com/profile_images/1396597638405967872/pv99nT93_normal.jpg', 'profile_banner_url': 'https://pbs.twimg.com/profile_banners/63134848/1396363743', 'profile_link_color': '009999', 'profile_sidebar_border_color': 'EEEEEE', 'profile_sidebar_fill_color': 'EFEFEF', 'profile_text_color': '333333', 'profile_use_background_image': True, 'has_extended_profile': False, 'default_profile': False, 'default_profile_image': False, 'following': False, 'follow_request_sent': False, 'notifications': False, 'translator_type': 'none', 'withheld_in_countries': []}, id=63134848, id_str='63134848', name='Leonardo Caravaggio', screen_name='leocaravaggio', location='', description='Economista y Data Scientist', url='https://t.co/Ti7Wciq8D3', entities={'url': {'urls': [{'url': 'https://t.co/Ti7Wciq8D3', 'expanded_url': 'https://lcaravaggio.github.io/', 'display_url': 'lcaravaggio.github.io', 'indices': [0, 23]}]}, 'description': {'urls': []}}, protected=False, followers_count=696, friends_count=1307, listed_count=2, created_at=datetime.datetime(2009, 8, 5, 13, 41, 6), favourites_count=954, utc_offset=None, time_zone=None, geo_enabled=False, verified=False, statuses_count=2510, lang=None, contributors_enabled=False, is_translator=False, is_translation_enabled=False, profile_background_color='131516', profile_background_image_url='http://abs.twimg.com/images/themes/theme14/bg.gif', profile_background_image_url_https='https://abs.twimg.com/images/themes/theme14/bg.gif', profile_background_tile=True, profile_image_url='http://pbs.twimg.com/profile_images/1396597638405967872/pv99nT93_normal.jpg', profile_image_url_https='https://pbs.twimg.com/profile_images/1396597638405967872/pv99nT93_normal.jpg', profile_banner_url='https://pbs.twimg.com/profile_banners/63134848/1396363743', profile_link_color='009999', profile_sidebar_border_color='EEEEEE', profile_sidebar_fill_color='EFEFEF', profile_text_color='333333', profile_use_background_image=True, has_extended_profile=False, default_profile=False, default_profile_image=False, following=False, follow_request_sent=False, notifications=False, translator_type='none', withheld_in_countries=[]), user=User(_api=<tweepy.api.API object at 0x7fa23af966d0>, _json={'id': 63134848, 'id_str': '63134848', 'name': 'Leonardo Caravaggio', 'screen_name': 'leocaravaggio', 'location': '', 'description': 'Economista y Data Scientist', 'url': 'https://t.co/Ti7Wciq8D3', 'entities': {'url': {'urls': [{'url': 'https://t.co/Ti7Wciq8D3', 'expanded_url': 'https://lcaravaggio.github.io/', 'display_url': 'lcaravaggio.github.io', 'indices': [0, 23]}]}, 'description': {'urls': []}}, 'protected': False, 'followers_count': 696, 'friends_count': 1307, 'listed_count': 2, 'created_at': 'Wed Aug 05 13:41:06 +0000 2009', 'favourites_count': 954, 'utc_offset': None, 'time_zone': None, 'geo_enabled': False, 'verified': False, 'statuses_count': 2510, 'lang': None, 'contributors_enabled': False, 'is_translator': False, 'is_translation_enabled': False, 'profile_background_color': '131516', 'profile_background_image_url': 'http://abs.twimg.com/images/themes/theme14/bg.gif', 'profile_background_image_url_https': 'https://abs.twimg.com/images/themes/theme14/bg.gif', 'profile_background_tile': True, 'profile_image_url': 'http://pbs.twimg.com/profile_images/1396597638405967872/pv99nT93_normal.jpg', 'profile_image_url_https': 'https://pbs.twimg.com/profile_images/1396597638405967872/pv99nT93_normal.jpg', 'profile_banner_url': 'https://pbs.twimg.com/profile_banners/63134848/1396363743', 'profile_link_color': '009999', 'profile_sidebar_border_color': 'EEEEEE', 'profile_sidebar_fill_color': 'EFEFEF', 'profile_text_color': '333333', 'profile_use_background_image': True, 'has_extended_profile': False, 'default_profile': False, 'default_profile_image': False, 'following': False, 'follow_request_sent': False, 'notifications': False, 'translator_type': 'none', 'withheld_in_countries': []}, id=63134848, id_str='63134848', name='Leonardo Caravaggio', screen_name='leocaravaggio', location='', description='Economista y Data Scientist', url='https://t.co/Ti7Wciq8D3', entities={'url': {'urls': [{'url': 'https://t.co/Ti7Wciq8D3', 'expanded_url': 'https://lcaravaggio.github.io/', 'display_url': 'lcaravaggio.github.io', 'indices': [0, 23]}]}, 'description': {'urls': []}}, protected=False, followers_count=696, friends_count=1307, listed_count=2, created_at=datetime.datetime(2009, 8, 5, 13, 41, 6), favourites_count=954, utc_offset=None, time_zone=None, geo_enabled=False, verified=False, statuses_count=2510, lang=None, contributors_enabled=False, is_translator=False, is_translation_enabled=False, profile_background_color='131516', profile_background_image_url='http://abs.twimg.com/images/themes/theme14/bg.gif', profile_background_image_url_https='https://abs.twimg.com/images/themes/theme14/bg.gif', profile_background_tile=True, profile_image_url='http://pbs.twimg.com/profile_images/1396597638405967872/pv99nT93_normal.jpg', profile_image_url_https='https://pbs.twimg.com/profile_images/1396597638405967872/pv99nT93_normal.jpg', profile_banner_url='https://pbs.twimg.com/profile_banners/63134848/1396363743', profile_link_color='009999', profile_sidebar_border_color='EEEEEE', profile_sidebar_fill_color='EFEFEF', profile_text_color='333333', profile_use_background_image=True, has_extended_profile=False, default_profile=False, default_profile_image=False, following=False, follow_request_sent=False, notifications=False, translator_type='none', withheld_in_countries=[]), geo=None, coordinates=None, place=None, contributors=None, is_quote_status=False, retweet_count=0, favorite_count=0, favorited=False, retweeted=False, lang='und')"
            ]
          },
          "metadata": {},
          "execution_count": 90
        }
      ]
    }
  ]
}