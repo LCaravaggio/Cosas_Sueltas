{
  "nbformat": 4,
  "nbformat_minor": 0,
  "metadata": {
    "colab": {
      "name": "Ejercicio Sencillo Alphacast.ipynb",
      "provenance": [],
      "authorship_tag": "ABX9TyNqWgavv1K1DWtIj/nd+lD9",
      "include_colab_link": true
    },
    "kernelspec": {
      "name": "python3",
      "display_name": "Python 3"
    },
    "language_info": {
      "name": "python"
    }
  },
  "cells": [
    {
      "cell_type": "markdown",
      "metadata": {
        "id": "view-in-github",
        "colab_type": "text"
      },
      "source": [
        "<a href=\"https://colab.research.google.com/github/LCaravaggio/Cosas_Sueltas/blob/main/Ejercicio_Sencillo_Alphacast.ipynb\" target=\"_parent\"><img src=\"https://colab.research.google.com/assets/colab-badge.svg\" alt=\"Open In Colab\"/></a>"
      ]
    },
    {
      "cell_type": "markdown",
      "metadata": {
        "id": "6iSntYMYxeGq"
      },
      "source": [
        "\n",
        "\n",
        "Ejercicio sencillo con Alphacast\n",
        "Original: https://t.co/8sDEm7wbbh\n",
        "\n"
      ]
    },
    {
      "cell_type": "code",
      "metadata": {
        "id": "Nhzd5HUixBrw"
      },
      "source": [
        "# Impotar librerías\n",
        "\n",
        "import pandas as pd\n",
        "import requests\n",
        "from requests.auth import HTTPBasicAuth\n",
        "import csv\n",
        "import datetime\n",
        "from datetime import datetime as dt\n",
        "from matplotlib import pyplot as plt\n",
        "import seaborn as sns\n",
        "from sklearn.neural_network import MLPRegressor\n",
        "from sklearn.datasets import make_regression\n",
        "from sklearn.model_selection import train_test_split\n",
        "from sklearn.preprocessing import StandardScaler\n",
        "import pandas_profiling as ppf\n",
        "from dateutil.relativedelta import relativedelta\n",
        "\n",
        "import json\n",
        "from google.colab import drive"
      ],
      "execution_count": null,
      "outputs": []
    },
    {
      "cell_type": "code",
      "metadata": {
        "colab": {
          "base_uri": "https://localhost:8080/"
        },
        "id": "_wkW9Z7mwkRB",
        "outputId": "db1d23a0-ace5-46df-8fc1-ad0ad626130e"
      },
      "source": [
        "drive.mount('/content/drive', force_remount=True)\n",
        "with open(\"/content/drive/My Drive/alphacast.json\", 'r') as f:\n",
        "    api_token= json.load(f)"
      ],
      "execution_count": 3,
      "outputs": [
        {
          "output_type": "stream",
          "text": [
            "Mounted at /content/drive\n"
          ],
          "name": "stdout"
        }
      ]
    },
    {
      "cell_type": "code",
      "metadata": {
        "id": "w0Gjk1_2lxcB"
      },
      "source": [
        "# Definir user key para la API\n",
        "user_key = api_token[\"key\"]"
      ],
      "execution_count": 11,
      "outputs": []
    },
    {
      "cell_type": "code",
      "metadata": {
        "id": "7GbfSfBuxKff"
      },
      "source": [
        "# Función para obtener el primer día del mes solicitado\n",
        "def changeday(date):\n",
        "    year = date.year\n",
        "    month = date.month\n",
        "    return dt(year,month,1)\n",
        "\n",
        "# DESCARGA DE DATOS Y ARMADO DE BASE\n",
        "\n",
        "# Adefa\n",
        "\n",
        "adefa = requests.get('https://charts.alphacast.io/api/datasets/5600.csv', auth=HTTPBasicAuth(user_key, ''))\n",
        "open('adefa.csv', 'wb').write(adefa.content)\n",
        "adefa1 = pd.read_csv('adefa.csv', delimiter = ',')\n",
        "adefa1['Year'] = pd.to_datetime(adefa1['Year'])\n",
        "adefa1.set_index('Year', inplace = True)\n",
        "adefa1 = adefa1[['Production - Cars - sa', 'Exports - Cars - sa', 'Sales to domestic market - Total', 'Sales to domestic market - National vehicles']]\n",
        "adefa1.columns = ['Produccion Automoviles Total (sa)', 'Exportacion Automoviles (sa)','Ventas Totales Mdo Domestico (sa)','Ventas de Vehiculos Nacionales Mdo Domestico']\n",
        "\n",
        "# Portland\n",
        "\n",
        "portland = requests.get('https://charts.alphacast.io/api/datasets/5537.csv', auth=HTTPBasicAuth(user_key, ''))\n",
        "open('portland.csv','wb').write(portland.content)\n",
        "portland1 = pd.read_csv('portland.csv', delimiter = ',')\n",
        "portland1['Year'] = pd.to_datetime(portland1['Year'])\n",
        "portland1.set_index('Year', inplace = True)\n",
        "portland1 = portland1[['Cement Dispatches - Total']]\n",
        "portland1.columns = ['Despachos de Cemento']\n",
        "\n",
        "# MECON\n",
        "\n",
        "mecon = requests.get('https://charts.alphacast.io/api/datasets/5632.csv', auth=HTTPBasicAuth(user_key, ''))\n",
        "open('mecon.csv', 'wb').write(mecon.content)\n",
        "mecon1 = pd.read_csv('mecon.csv', delimiter = ',')\n",
        "mecon1['Year'] = pd.to_datetime(mecon1['Year'])\n",
        "mecon1.set_index('Year', inplace = True)\n",
        "mecon1 = mecon1[['GANANCIAS - sa', 'GANANCIAS DGI - sa', 'GANANCIAS DGA - sa', 'IVA - sa', 'IVA DGI - sa' ]]\n",
        "mecon1.columns = ['Ganancias (sa)','Ganancias DGI (sa)','Ganancias DGA (sa)','IVA (sa)','IVA DGI (sa)' ]\n",
        "mecon1 = mecon1.loc['2004-01-01':]\n",
        "\n",
        "# Merval\n",
        "\n",
        "merval = requests.get('https://charts.alphacast.io/api/datasets/5816.csv', auth=HTTPBasicAuth(user_key, ''))\n",
        "open('merval.csv', 'wb').write(merval.content)\n",
        "merval1 = pd.read_csv('merval.csv', delimiter = ',')\n",
        "merval1['Year'] = pd.to_datetime(merval1['Year'])\n",
        "merval1.set_index('Year', inplace = True)\n",
        "merval1 = merval1[['MERVAL']]\n",
        "merval1 = merval1.loc['2004-01-01':]\n",
        "merval1.columns = ['Merval']\n",
        "merval1 = merval1.resample('MS').mean()\n",
        "\n",
        "# BCRA\n",
        "\n",
        "bcra = requests.get('https://charts.alphacast.io/api/datasets/6054.csv', auth=HTTPBasicAuth(user_key, ''))\n",
        "open('bcra.csv', 'wb').write(bcra.content)\n",
        "bcra1 = pd.read_csv('bcra.csv', delimiter = ',')\n",
        "bcra1['Year'] = pd.to_datetime(bcra1['Year'])\n",
        "bcra1 = bcra1[['Year','Tasas de interés, promedio mensual en porcentaje nominal anual - Por depósitosa plazo fijo de 30 a 59 días de plazo - De moneda nacional']]\n",
        "bcra1.columns = ['Year','Tasa de Interes']\n",
        "bcra1['Year'] = bcra1['Year'].apply(lambda x: changeday(x))\n",
        "bcra1.set_index('Year', inplace = True)\n",
        "bcra1 = bcra1.loc[\"2004-01-01\":]\n",
        "\n",
        "bcra_arg = requests.get('https://charts.alphacast.io/api/datasets/5277.csv', auth=HTTPBasicAuth(user_key, ''))\n",
        "open('bcra_arg.csv', 'wb').write(bcra_arg.content)\n",
        "bcra_arg1 = pd.read_csv('bcra_arg.csv', delimiter = ',')\n",
        "bcra_arg1['Year'] = pd.to_datetime(bcra_arg1['Year'])\n",
        "bcra_arg1.set_index('Year', inplace = True)\n",
        "bcra_arg1 = bcra_arg1[['Private M2 - sa']]\n",
        "bcra_arg1.columns = ['Private M2 (sa)']\n",
        "bcra_arg1 = bcra_arg1.loc['2004-01-01':]\n",
        "\n",
        "# UTDT\n",
        "\n",
        "utdt = requests.get('https://charts.alphacast.io/api/datasets/5596.csv', auth=HTTPBasicAuth(user_key, ''))\n",
        "open('utdt.csv','wb').write(utdt.content)\n",
        "utdt1 = pd.read_csv('utdt.csv', delimiter = ',')\n",
        "utdt1['Year'] = pd.to_datetime(utdt1['Year'])\n",
        "utdt1.set_index('Year', inplace = True)\n",
        "utdt1 = utdt1[['Indice de Confianza del Consumidor (ICC) - Nacional']]\n",
        "utdt1.columns = ['Indice de Confianza del Consumidor']\n",
        "utdt1 = utdt1.loc['2004-01-01':]\n",
        "\n",
        "# EMAE\n",
        "\n",
        "emae = requests.get('https://charts.alphacast.io/api/datasets/5331.csv', auth=HTTPBasicAuth(user_key, ''))\n",
        "open('emae.csv','wb').write(emae.content)\n",
        "emae1 = pd.read_csv('emae.csv',delimiter = ',')\n",
        "emae1['Year'] = pd.to_datetime(emae1['Year'])\n",
        "emae1.set_index('Year', inplace = True)\n",
        "emae1 = emae1[['Emae','Emae - current_prices_mom','Emae - current_prices_yoy','Emae - sa_orig','Emae - sa_orig - current_prices_mom','Emae - sa_orig - current_prices_yoy']]\n",
        "emae1.columns = ['EMAE', 'EMAE MoM','EMAE YoY','EMAE (sa)','EMAE (sa) MoM','EMAE (sa) YoY']\n",
        "emae1 = emae1.loc['2004-01-01':]\n",
        "\n"
      ],
      "execution_count": null,
      "outputs": []
    },
    {
      "cell_type": "code",
      "metadata": {
        "id": "cd6sH6qExRL8"
      },
      "source": [
        "# Armado de tabla final\n",
        "\n",
        "tabla_final = pd.concat([emae1[['EMAE (sa)']], adefa1,portland1,mecon1,bcra_arg1,utdt1,merval1,bcra1], axis = 1)\n",
        "\n",
        "# Función para graficar emae vs. variable solicitada\n",
        "\n",
        "sns.set_theme(style='darkgrid')\n",
        "def graficar_corr(variable):\n",
        "    fig = sns.scatterplot(x=tabla_final.transpose().loc[variable,:],y=tabla_final.transpose().loc['EMAE (sa)'])\n",
        "    plt.title('EMAE (sa) vs %s'%variable)\n",
        "    plt.xlabel(variable)\n",
        "    plt.ylabel('EMAE (sa)')\n",
        "    plt.savefig('%s.png'%variable)\n",
        "    return fig\n",
        "\n",
        "# Aplicación de esa función para diferentes variables\n",
        "\n",
        "graficar_corr('Despachos de Cemento')\n",
        "\n",
        "graficar_corr('Ventas Totales Mdo Domestico (sa)')\n",
        "\n",
        "graficar_corr('Ventas de Vehiculos Nacionales Mdo Domestico')\n",
        "\n",
        "graficar_corr('Tasa de Interes')\n",
        "\n",
        "# Función que separa la base en train set y test set, ejecuta el modelo, y aplica sobre el test set\n",
        "\n",
        "def modelo_prueba():\n",
        "    scaler = StandardScaler()\n",
        "    tabla_final_1 = tabla_final.copy(deep=True)\n",
        "    tabla_final_1['Missing'] = tabla_final_1.isnull().sum(axis=1)\n",
        "    tabla_final_1 = tabla_final_1[tabla_final_1.Missing == 0]\n",
        "    tabla_final_1.drop(['Missing'], axis=1,inplace=True)\n",
        "    scaler = StandardScaler()\n",
        "    X = tabla_final_1.loc[:, tabla_final_1.columns != 'EMAE (sa)']\n",
        "    X = scaler.fit_transform(X)\n",
        "    y = tabla_final_1[['EMAE (sa)']].values.ravel()\n",
        "    X_train, X_test, y_train, y_test = train_test_split(X, y, random_state=1)\n",
        "    regr_1 = MLPRegressor(random_state=1, activation='tanh', max_iter=5000, learning_rate='adaptive', solver='sgd', momentum=0.01).fit(X_train, y_train)\n",
        "    y_pred = regr_1.predict(X_test)\n",
        "    model_df = pd.DataFrame({'Actual':y_test,'Pred':y_pred})\n",
        "    model_df['Dif']=abs((model_df['Pred']/model_df['Actual']-1)*100)\n",
        "    score = model_df['Dif'].median()\n",
        "    return model_df, score, regr_1\n",
        "\n",
        "# Ejecución del modelo\n",
        "\n",
        "model_df, score, regr_prueba = modelo_prueba()\n",
        "print('Desviación promedio: ',round(score,2),'%')\n",
        "\n",
        "# Gráfico de fitted vs actual\n",
        "\n",
        "sns.set_theme(style='darkgrid')\n",
        "sns.scatterplot(x=model_df['Actual'],y=model_df['Pred'])\n",
        "ax = plt.gca()\n",
        "plt.title('Fitted vs. Actual values')\n",
        "plt.xlabel('Actual')\n",
        "plt.ylabel('Fitted')\n",
        "ax.set_ylim(95,155)\n",
        "ax.set_xlim(95,155)\n",
        "plt.savefig('Scatter.png')\n",
        "\n",
        "# Función que ejecuta el modelo para un mes determinado, utilizando solo la información que estaba disponible hasta\n",
        "# ese momento\n",
        "\n",
        "def estimar(fecha,tabla_final=tabla_final):\n",
        "    scaler = StandardScaler()\n",
        "    X = tabla_final.loc[:, tabla_final.columns != 'EMAE (sa)'].loc[:fecha]\n",
        "    X = scaler.fit_transform(X)\n",
        "    y = tabla_final[['EMAE (sa)']].loc[:fecha].values.ravel()\n",
        "    X_train_posta = X[0:len(X)-1]\n",
        "    X_target = X[len(X)-1]\n",
        "    y_train_posta = y[0:len(X)-1]\n",
        "    y_target = y[len(X)-1]\n",
        "    regr_posta = MLPRegressor(random_state=1, activation='tanh', max_iter=5000, learning_rate='adaptive', solver='sgd', momentum=0.01).fit(X_train_posta, y_train_posta)\n",
        "    y_pred_posta = regr_posta.predict(X_target.reshape(1,-1))\n",
        "    dif = ((y_pred_posta/y_target)-1)*100\n",
        "    return y_pred_posta, y_target, dif\n",
        "\n",
        "\n",
        "# Ejecución del modelo para ver mayo 2021\n",
        "estimar(fecha='2021-05-01')\n",
        "\n"
      ],
      "execution_count": null,
      "outputs": []
    },
    {
      "cell_type": "code",
      "metadata": {
        "id": "8CWjFUTrxTu3"
      },
      "source": [
        "# Ejecución de la función anterior para los últimos 12 meses, y visualización de los resultados\n",
        "\n",
        "m = 7 ## lo seteo en julio\n",
        "meses=[]\n",
        "for i in range(1,13):\n",
        "    meses.append(dt(2021,m,1)+relativedelta(months=-i))\n",
        "meses.sort()\n",
        "\n",
        "posta_l=[]\n",
        "pred_l=[]\n",
        "dif_l=[]\n",
        "for mes in meses:\n",
        "    pred,posta,dif = estimar(mes)\n",
        "    posta_l.append(posta)\n",
        "    pred_l.append(pred[0])\n",
        "    dif_l.append(dif[0])\n",
        "\n",
        "estimar_df = pd.DataFrame(list(zip(posta_l,pred_l,dif_l)),index=meses,columns=['Actual','Pred','Diff (%)'])\n",
        "plt.plot(estimar_df[['Actual']],label='Actual')\n",
        "plt.plot(estimar_df[['Pred']],label='Pred')\n",
        "plt.legend(loc=\"upper left\")\n",
        "plt.savefig('12 meses.png')\n",
        "estimar_df"
      ],
      "execution_count": null,
      "outputs": []
    }
  ]
}