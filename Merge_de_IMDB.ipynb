{
  "nbformat": 4,
  "nbformat_minor": 0,
  "metadata": {
    "colab": {
      "name": "Merge de IMDB.ipynb",
      "provenance": [],
      "authorship_tag": "ABX9TyPrYYwfPSgCq7wdV95kmNG7",
      "include_colab_link": true
    },
    "kernelspec": {
      "name": "python3",
      "display_name": "Python 3"
    },
    "language_info": {
      "name": "python"
    }
  },
  "cells": [
    {
      "cell_type": "markdown",
      "metadata": {
        "id": "view-in-github",
        "colab_type": "text"
      },
      "source": [
        "<a href=\"https://colab.research.google.com/github/LCaravaggio/Cosas_Sueltas/blob/main/Merge_de_IMDB.ipynb\" target=\"_parent\"><img src=\"https://colab.research.google.com/assets/colab-badge.svg\" alt=\"Open In Colab\"/></a>"
      ]
    },
    {
      "cell_type": "code",
      "execution_count": 1,
      "metadata": {
        "id": "KEn4R8xlyN4_"
      },
      "outputs": [],
      "source": [
        "import pandas as pd\n",
        "import numpy as np"
      ]
    },
    {
      "cell_type": "code",
      "source": [
        "import json\n",
        "from google.colab import drive\n",
        "\n",
        "!mkdir ~/.kaggle\n",
        "!touch ~/.kaggle/kaggle.json\n",
        "\n",
        "drive.mount('/content/drive', force_remount=True)\n",
        "with open(\"/content/drive/My Drive/kaggle.json\", 'r') as f:\n",
        "    api_token= json.load(f)\n",
        "\n",
        "with open('/root/.kaggle/kaggle.json', 'w') as file:\n",
        "    json.dump(api_token, file)\n",
        "\n",
        "!chmod 600 ~/.kaggle/kaggle.json\n",
        "\n",
        "!kaggle competitions download -c examen-2-ap-itba\n",
        "\n",
        "\n",
        "import zipfile\n",
        "import os\n",
        "\n",
        "os.listdir()\n",
        "\n",
        "for file in os.listdir():\n",
        "    if file.endswith('.zip'):\n",
        "      zip_ref = zipfile.ZipFile(file, 'r')\n",
        "      zip_ref.extractall()\n",
        "      zip_ref.close()"
      ],
      "metadata": {
        "colab": {
          "base_uri": "https://localhost:8080/"
        },
        "id": "yBcz9L26yTIS",
        "outputId": "70c9d6f2-0fc4-42bb-a446-9ab6dc2f30db"
      },
      "execution_count": 2,
      "outputs": [
        {
          "output_type": "stream",
          "name": "stdout",
          "text": [
            "Mounted at /content/drive\n",
            "Downloading examen-2-ap-itba.zip to /content\n",
            " 92% 48.0M/52.0M [00:00<00:00, 93.8MB/s]\n",
            "100% 52.0M/52.0M [00:00<00:00, 74.0MB/s]\n"
          ]
        }
      ]
    },
    {
      "cell_type": "code",
      "source": [
        "df_train=pd.read_csv(\"datos.csv\", sep=\",\")\n",
        "df_test=pd.read_csv(\"resultados.csv\", sep=\",\")\n",
        "sol=pd.read_csv(\"solucion.csv\", sep=\",\")"
      ],
      "metadata": {
        "colab": {
          "base_uri": "https://localhost:8080/"
        },
        "id": "EvK40JRnyZ7x",
        "outputId": "c151ee7a-8dd2-467d-c631-e65ba255ad0c"
      },
      "execution_count": 3,
      "outputs": [
        {
          "output_type": "stream",
          "name": "stderr",
          "text": [
            "<ipython-input-3-f741a21bedf9>:1: DtypeWarning: Columns (4) have mixed types. Specify dtype option on import or set low_memory=False.\n",
            "  df_train=pd.read_csv(\"datos.csv\", sep=\",\")\n"
          ]
        }
      ]
    },
    {
      "cell_type": "code",
      "source": [
        "dos=pd.merge(df_test, sol, left_index=True, right_index=True)"
      ],
      "metadata": {
        "id": "3UMXk2hezdak"
      },
      "execution_count": 4,
      "outputs": []
    },
    {
      "cell_type": "code",
      "source": [
        "todo=pd.concat([df_train, dos])"
      ],
      "metadata": {
        "id": "rWXo851g1IyQ"
      },
      "execution_count": 5,
      "outputs": []
    },
    {
      "cell_type": "code",
      "source": [
        "df_train.columns"
      ],
      "metadata": {
        "colab": {
          "base_uri": "https://localhost:8080/"
        },
        "id": "FIvK-nNp58Cw",
        "outputId": "be47e6a9-eecc-4c7d-c8f7-59b77308f74e"
      },
      "execution_count": 6,
      "outputs": [
        {
          "output_type": "execute_result",
          "data": {
            "text/plain": [
              "Index(['averageRating', 'numVotes', 'titleType', 'isAdult', 'startYear',\n",
              "       'endYear', 'runtimeMinutes', 'genres_x', 'directors', 'writers',\n",
              "       'seasonNumber', 'episodeNumber', 'ordering', 'language', 'types',\n",
              "       'attributes', 'isOriginalTitle', 'adult', 'budget', 'genres_y',\n",
              "       'original_language', 'overview', 'popularity', 'production_companies',\n",
              "       'production_countries', 'release_date', 'revenue', 'runtime', 'status',\n",
              "       'tagline', 'video', 'id'],\n",
              "      dtype='object')"
            ]
          },
          "metadata": {},
          "execution_count": 6
        }
      ]
    },
    {
      "cell_type": "code",
      "source": [
        "dos.columns"
      ],
      "metadata": {
        "colab": {
          "base_uri": "https://localhost:8080/"
        },
        "id": "fWkPxu2E5-jA",
        "outputId": "09ea368e-8926-4ab7-a8af-6e5d9f8f00cc"
      },
      "execution_count": 7,
      "outputs": [
        {
          "output_type": "execute_result",
          "data": {
            "text/plain": [
              "Index(['numVotes', 'titleType', 'isAdult', 'startYear', 'endYear',\n",
              "       'runtimeMinutes', 'genres_x', 'directors', 'writers', 'seasonNumber',\n",
              "       'episodeNumber', 'ordering', 'language', 'types', 'attributes',\n",
              "       'isOriginalTitle', 'adult', 'budget', 'genres_y', 'original_language',\n",
              "       'overview', 'popularity', 'production_companies',\n",
              "       'production_countries', 'release_date', 'revenue', 'runtime', 'status',\n",
              "       'tagline', 'video', 'id_x', 'id_y', 'averageRating'],\n",
              "      dtype='object')"
            ]
          },
          "metadata": {},
          "execution_count": 7
        }
      ]
    },
    {
      "cell_type": "code",
      "source": [
        "todo.columns"
      ],
      "metadata": {
        "colab": {
          "base_uri": "https://localhost:8080/"
        },
        "id": "xZ9BtXnn1TS5",
        "outputId": "31bcc10b-e57f-4808-f4e6-9a87a8337dae"
      },
      "execution_count": 8,
      "outputs": [
        {
          "output_type": "execute_result",
          "data": {
            "text/plain": [
              "Index(['averageRating', 'numVotes', 'titleType', 'isAdult', 'startYear',\n",
              "       'endYear', 'runtimeMinutes', 'genres_x', 'directors', 'writers',\n",
              "       'seasonNumber', 'episodeNumber', 'ordering', 'language', 'types',\n",
              "       'attributes', 'isOriginalTitle', 'adult', 'budget', 'genres_y',\n",
              "       'original_language', 'overview', 'popularity', 'production_companies',\n",
              "       'production_countries', 'release_date', 'revenue', 'runtime', 'status',\n",
              "       'tagline', 'video', 'id', 'id_x', 'id_y'],\n",
              "      dtype='object')"
            ]
          },
          "metadata": {},
          "execution_count": 8
        }
      ]
    },
    {
      "cell_type": "code",
      "source": [
        "todo=todo.replace('Game-Show',0)\n",
        "todo=todo.replace('\\\\n',0)\n",
        "todo=todo.replace('Reality-TV',0)\n",
        "todo=todo.replace('\\\\N',0)"
      ],
      "metadata": {
        "id": "jLM6WlM_1dIg"
      },
      "execution_count": 9,
      "outputs": []
    },
    {
      "cell_type": "code",
      "source": [
        "def replaceN (df,columna):\n",
        "  df[columna] = df[columna].replace('\\\\\\\\N','hola').replace('hola',np.nan)\n",
        "\n",
        "replaceN(todo,'endYear')\n",
        "replaceN(todo,'runtimeMinutes')\n",
        "replaceN(todo,'genres_x')\n",
        "replaceN(todo,'startYear')\n",
        "replaceN(todo,'directors')\n",
        "replaceN(todo,'writers')\n",
        "replaceN(todo,'seasonNumber')\n",
        "replaceN(todo,'episodeNumber')\n",
        "replaceN(todo,'language')\n",
        "replaceN(todo,'types')\n",
        "replaceN(todo,'attributes')"
      ],
      "metadata": {
        "id": "PATSC45e2Mcp"
      },
      "execution_count": 10,
      "outputs": []
    },
    {
      "cell_type": "code",
      "source": [
        "todo=todo.drop(columns=['id_x', 'id_y'])"
      ],
      "metadata": {
        "id": "Wt6OdQH72nPe"
      },
      "execution_count": 11,
      "outputs": []
    },
    {
      "cell_type": "code",
      "source": [
        "todo=todo.drop(columns=['id'])"
      ],
      "metadata": {
        "id": "9btLgNc4241N"
      },
      "execution_count": 12,
      "outputs": []
    },
    {
      "cell_type": "code",
      "source": [
        "todo = todo[~todo['runtimeMinutes'].isnull()]\n",
        "todo['runtimeMinutes']=todo['runtimeMinutes'].replace('Game-Show',0)\n",
        "todo['runtimeMinutes']=todo['runtimeMinutes'].astype('int16')"
      ],
      "metadata": {
        "id": "I5-rM17A4C-T"
      },
      "execution_count": 13,
      "outputs": []
    },
    {
      "cell_type": "code",
      "source": [
        "todo.info()"
      ],
      "metadata": {
        "colab": {
          "base_uri": "https://localhost:8080/"
        },
        "id": "YqhbqLDZ3Lyy",
        "outputId": "67bdf6fa-f3c6-4e9e-bc58-4dddb34bebc0"
      },
      "execution_count": 14,
      "outputs": [
        {
          "output_type": "stream",
          "name": "stdout",
          "text": [
            "<class 'pandas.core.frame.DataFrame'>\n",
            "Int64Index: 1221927 entries, 0 to 321931\n",
            "Data columns (total 31 columns):\n",
            " #   Column                Non-Null Count    Dtype  \n",
            "---  ------                --------------    -----  \n",
            " 0   averageRating         1221927 non-null  float64\n",
            " 1   numVotes              1221927 non-null  int64  \n",
            " 2   titleType             1221927 non-null  object \n",
            " 3   isAdult               1221927 non-null  float64\n",
            " 4   startYear             1221927 non-null  object \n",
            " 5   endYear               1221927 non-null  object \n",
            " 6   runtimeMinutes        1221927 non-null  int16  \n",
            " 7   genres_x              1221925 non-null  object \n",
            " 8   directors             1221927 non-null  object \n",
            " 9   writers               1221927 non-null  object \n",
            " 10  seasonNumber          547631 non-null   object \n",
            " 11  episodeNumber         547631 non-null   object \n",
            " 12  ordering              463440 non-null   float64\n",
            " 13  language              463440 non-null   object \n",
            " 14  types                 463440 non-null   object \n",
            " 15  attributes            463440 non-null   object \n",
            " 16  isOriginalTitle       463440 non-null   float64\n",
            " 17  adult                 59147 non-null    object \n",
            " 18  budget                59147 non-null    float64\n",
            " 19  genres_y              59147 non-null    object \n",
            " 20  original_language     59133 non-null    object \n",
            " 21  overview              58165 non-null    object \n",
            " 22  popularity            59144 non-null    float64\n",
            " 23  production_companies  59144 non-null    object \n",
            " 24  production_countries  59144 non-null    object \n",
            " 25  release_date          59060 non-null    object \n",
            " 26  revenue               59144 non-null    float64\n",
            " 27  runtime               58887 non-null    float64\n",
            " 28  status                59056 non-null    object \n",
            " 29  tagline               29851 non-null    object \n",
            " 30  video                 59144 non-null    object \n",
            "dtypes: float64(8), int16(1), int64(1), object(21)\n",
            "memory usage: 291.3+ MB\n"
          ]
        }
      ]
    },
    {
      "cell_type": "code",
      "source": [
        "todo=todo.drop(columns=['types'])"
      ],
      "metadata": {
        "id": "eVVoe3787LGX"
      },
      "execution_count": 15,
      "outputs": []
    },
    {
      "cell_type": "code",
      "source": [
        "todo=todo.drop(columns=['overview'])"
      ],
      "metadata": {
        "id": "VYm9Mgkse3Fo"
      },
      "execution_count": 17,
      "outputs": []
    },
    {
      "cell_type": "code",
      "source": [
        "todo.columns"
      ],
      "metadata": {
        "colab": {
          "base_uri": "https://localhost:8080/"
        },
        "id": "E_7cSmrne_gJ",
        "outputId": "f9d6422a-a6bc-481e-f13c-2b5c07841e9c"
      },
      "execution_count": 18,
      "outputs": [
        {
          "output_type": "execute_result",
          "data": {
            "text/plain": [
              "Index(['averageRating', 'numVotes', 'titleType', 'isAdult', 'startYear',\n",
              "       'endYear', 'runtimeMinutes', 'genres_x', 'directors', 'writers',\n",
              "       'seasonNumber', 'episodeNumber', 'ordering', 'language', 'attributes',\n",
              "       'isOriginalTitle', 'adult', 'budget', 'genres_y', 'original_language',\n",
              "       'popularity', 'production_companies', 'production_countries',\n",
              "       'release_date', 'revenue', 'runtime', 'status', 'tagline', 'video'],\n",
              "      dtype='object')"
            ]
          },
          "metadata": {},
          "execution_count": 18
        }
      ]
    },
    {
      "cell_type": "code",
      "source": [
        "todo.averageRating"
      ],
      "metadata": {
        "colab": {
          "base_uri": "https://localhost:8080/"
        },
        "id": "Wq7vI6yp7VJH",
        "outputId": "bcb412e3-16ef-45b6-e16b-377ad9406ae2"
      },
      "execution_count": 19,
      "outputs": [
        {
          "output_type": "execute_result",
          "data": {
            "text/plain": [
              "0         1.8\n",
              "1         8.8\n",
              "2         8.5\n",
              "3         4.3\n",
              "4         7.4\n",
              "         ... \n",
              "321927    4.5\n",
              "321928    7.9\n",
              "321929    4.0\n",
              "321930    4.9\n",
              "321931    8.2\n",
              "Name: averageRating, Length: 1221927, dtype: float64"
            ]
          },
          "metadata": {},
          "execution_count": 19
        }
      ]
    },
    {
      "cell_type": "code",
      "source": [
        "from sklearn.model_selection import train_test_split"
      ],
      "metadata": {
        "id": "MayKb-C58BKD"
      },
      "execution_count": 20,
      "outputs": []
    },
    {
      "cell_type": "code",
      "source": [
        "datos, sol, AR_datos, AR_sol = train_test_split(todo, todo.averageRating, test_size=0.20, random_state=100)"
      ],
      "metadata": {
        "id": "yyZhHfDk8D_X"
      },
      "execution_count": 21,
      "outputs": []
    },
    {
      "cell_type": "code",
      "source": [
        "datos=datos.reset_index()"
      ],
      "metadata": {
        "id": "r8-gPR9_9B3i"
      },
      "execution_count": 22,
      "outputs": []
    },
    {
      "cell_type": "code",
      "source": [
        "sol=sol.reset_index()"
      ],
      "metadata": {
        "id": "_fzKwj8C9Euv"
      },
      "execution_count": 23,
      "outputs": []
    },
    {
      "cell_type": "code",
      "source": [
        "AR_datos=AR_datos.reset_index()"
      ],
      "metadata": {
        "id": "KpdNVPi38d6_"
      },
      "execution_count": 24,
      "outputs": []
    },
    {
      "cell_type": "code",
      "source": [
        "AR_sol=AR_sol.reset_index()"
      ],
      "metadata": {
        "id": "lzw0jmy49HRa"
      },
      "execution_count": 25,
      "outputs": []
    },
    {
      "cell_type": "code",
      "source": [
        "datos=datos.drop(columns=['index'])"
      ],
      "metadata": {
        "id": "945LaJNB9J9l"
      },
      "execution_count": 26,
      "outputs": []
    },
    {
      "cell_type": "code",
      "source": [
        "sol=sol.drop(columns=['index', 'averageRating'])"
      ],
      "metadata": {
        "id": "LmamSP_49Rgk"
      },
      "execution_count": 27,
      "outputs": []
    },
    {
      "cell_type": "code",
      "source": [
        "AR_sol=AR_sol.drop(columns=['index'])"
      ],
      "metadata": {
        "id": "9wNW-oEn9XpW"
      },
      "execution_count": 28,
      "outputs": []
    },
    {
      "cell_type": "code",
      "source": [
        "AR_datos=AR_datos.drop(columns=['index'])"
      ],
      "metadata": {
        "id": "VC2J40ig9fqO"
      },
      "execution_count": 29,
      "outputs": []
    },
    {
      "cell_type": "code",
      "source": [
        "datos.to_csv('origen.csv')"
      ],
      "metadata": {
        "id": "bI2TBnci-PnJ"
      },
      "execution_count": 34,
      "outputs": []
    },
    {
      "cell_type": "code",
      "source": [
        "sol.to_csv('testear.csv')"
      ],
      "metadata": {
        "id": "MyJK6dDT-bE8"
      },
      "execution_count": 36,
      "outputs": []
    },
    {
      "cell_type": "code",
      "source": [
        "AR_sol['Usage']=\"\""
      ],
      "metadata": {
        "id": "kT5knEA8lfRa"
      },
      "execution_count": 38,
      "outputs": []
    },
    {
      "cell_type": "code",
      "source": [
        "len(AR_sol['Usage'])"
      ],
      "metadata": {
        "id": "rOWY1KQUlotj",
        "outputId": "b5c49959-8fd1-4be4-8c51-00909a385705",
        "colab": {
          "base_uri": "https://localhost:8080/"
        }
      },
      "execution_count": 39,
      "outputs": [
        {
          "output_type": "execute_result",
          "data": {
            "text/plain": [
              "244386"
            ]
          },
          "metadata": {},
          "execution_count": 39
        }
      ]
    },
    {
      "cell_type": "code",
      "source": [
        "AR_sol['Usage'][:150000]='Public'"
      ],
      "metadata": {
        "id": "Yy19mP26lt8B",
        "outputId": "32cde61d-aa76-43e5-c1df-2945a371ae05",
        "colab": {
          "base_uri": "https://localhost:8080/"
        }
      },
      "execution_count": 40,
      "outputs": [
        {
          "output_type": "stream",
          "name": "stderr",
          "text": [
            "<ipython-input-40-a4948c47a761>:1: SettingWithCopyWarning: \n",
            "A value is trying to be set on a copy of a slice from a DataFrame\n",
            "\n",
            "See the caveats in the documentation: https://pandas.pydata.org/pandas-docs/stable/user_guide/indexing.html#returning-a-view-versus-a-copy\n",
            "  AR_sol['Usage'][:150000]='Public'\n"
          ]
        }
      ]
    },
    {
      "cell_type": "code",
      "source": [
        "AR_sol['Usage'][150000:]='Private'"
      ],
      "metadata": {
        "id": "hxpSFgkCl2BG",
        "outputId": "be51ba9b-6143-4f7f-b54e-cbfde80cf7f1",
        "colab": {
          "base_uri": "https://localhost:8080/"
        }
      },
      "execution_count": 41,
      "outputs": [
        {
          "output_type": "stream",
          "name": "stderr",
          "text": [
            "<ipython-input-41-dcac8153b327>:1: SettingWithCopyWarning: \n",
            "A value is trying to be set on a copy of a slice from a DataFrame\n",
            "\n",
            "See the caveats in the documentation: https://pandas.pydata.org/pandas-docs/stable/user_guide/indexing.html#returning-a-view-versus-a-copy\n",
            "  AR_sol['Usage'][150000:]='Private'\n"
          ]
        }
      ]
    },
    {
      "cell_type": "code",
      "source": [
        "AR_sol.to_csv('solucion_2023.csv')"
      ],
      "metadata": {
        "id": "LZRLFZEe9804"
      },
      "execution_count": 43,
      "outputs": []
    }
  ]
}