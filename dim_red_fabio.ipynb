{
  "nbformat": 4,
  "nbformat_minor": 0,
  "metadata": {
    "colab": {
      "provenance": [],
      "authorship_tag": "ABX9TyNGe9XFX/EpIST+o6P2ZOLl",
      "include_colab_link": true
    },
    "kernelspec": {
      "name": "python3",
      "display_name": "Python 3"
    },
    "language_info": {
      "name": "python"
    }
  },
  "cells": [
    {
      "cell_type": "markdown",
      "metadata": {
        "id": "view-in-github",
        "colab_type": "text"
      },
      "source": [
        "<a href=\"https://colab.research.google.com/github/LCaravaggio/Cosas_Sueltas/blob/main/dim_red_fabio.ipynb\" target=\"_parent\"><img src=\"https://colab.research.google.com/assets/colab-badge.svg\" alt=\"Open In Colab\"/></a>"
      ]
    },
    {
      "cell_type": "code",
      "execution_count": 125,
      "metadata": {
        "id": "TxfC5o5qY80N"
      },
      "outputs": [],
      "source": [
        "import pandas as pd"
      ]
    },
    {
      "cell_type": "code",
      "source": [
        "base=pd.read_csv('/content/Indices para regresion.csv', sep=';')"
      ],
      "metadata": {
        "id": "7jhJPbjHZK4O"
      },
      "execution_count": 126,
      "outputs": []
    },
    {
      "cell_type": "code",
      "source": [
        "base"
      ],
      "metadata": {
        "id": "XgmRyNfz7-_X",
        "outputId": "6962259b-4603-4697-c711-6abe69cbb7e8",
        "colab": {
          "base_uri": "https://localhost:8080/",
          "height": 426
        }
      },
      "execution_count": 127,
      "outputs": [
        {
          "output_type": "execute_result",
          "data": {
            "text/plain": [
              "     fecha  INDEC  AMBA 1  AMBA 2  AMBA 3  INTERIOR 1  INTERIOR 2  INTERIOR 3  \\\n",
              "0   ago-22    100     100     100     100         100         100         100   \n",
              "1   sep-22    103     100     100     100         116         100         100   \n",
              "2   oct-22    112     148     100     100         126         104         111   \n",
              "3   nov-22    124     191     104     104         145         105         105   \n",
              "4   dic-22    128     191     104     104         145         105         105   \n",
              "5   ene-23    138     250     104     122         168         108         113   \n",
              "6   feb-23    144     250     104     122         178         115         120   \n",
              "7   mar-23    156     277     131     149         179         115         121   \n",
              "8   abr-23    167     551     131     149         283         120         126   \n",
              "9   may-23    209     584     163     181         298         121         128   \n",
              "10  jun-23    232     584     163     181         318         126         134   \n",
              "11  jul-23    236     620     168     186         324         128         136   \n",
              "\n",
              "    GAS 1  GAS 2  GAS 3  \n",
              "0     100    100    100  \n",
              "1     119    100    100  \n",
              "2     119    100    100  \n",
              "3     146    100    100  \n",
              "4     146    100    100  \n",
              "5     183    100    100  \n",
              "6     183    100    100  \n",
              "7     221    100    114  \n",
              "8     221    100    114  \n",
              "9     275    136    155  \n",
              "10    275    136    155  \n",
              "11    275    136    155  "
            ],
            "text/html": [
              "\n",
              "  <div id=\"df-7d5ef684-8627-4d9c-a28f-3f6364b64b89\" class=\"colab-df-container\">\n",
              "    <div>\n",
              "<style scoped>\n",
              "    .dataframe tbody tr th:only-of-type {\n",
              "        vertical-align: middle;\n",
              "    }\n",
              "\n",
              "    .dataframe tbody tr th {\n",
              "        vertical-align: top;\n",
              "    }\n",
              "\n",
              "    .dataframe thead th {\n",
              "        text-align: right;\n",
              "    }\n",
              "</style>\n",
              "<table border=\"1\" class=\"dataframe\">\n",
              "  <thead>\n",
              "    <tr style=\"text-align: right;\">\n",
              "      <th></th>\n",
              "      <th>fecha</th>\n",
              "      <th>INDEC</th>\n",
              "      <th>AMBA 1</th>\n",
              "      <th>AMBA 2</th>\n",
              "      <th>AMBA 3</th>\n",
              "      <th>INTERIOR 1</th>\n",
              "      <th>INTERIOR 2</th>\n",
              "      <th>INTERIOR 3</th>\n",
              "      <th>GAS 1</th>\n",
              "      <th>GAS 2</th>\n",
              "      <th>GAS 3</th>\n",
              "    </tr>\n",
              "  </thead>\n",
              "  <tbody>\n",
              "    <tr>\n",
              "      <th>0</th>\n",
              "      <td>ago-22</td>\n",
              "      <td>100</td>\n",
              "      <td>100</td>\n",
              "      <td>100</td>\n",
              "      <td>100</td>\n",
              "      <td>100</td>\n",
              "      <td>100</td>\n",
              "      <td>100</td>\n",
              "      <td>100</td>\n",
              "      <td>100</td>\n",
              "      <td>100</td>\n",
              "    </tr>\n",
              "    <tr>\n",
              "      <th>1</th>\n",
              "      <td>sep-22</td>\n",
              "      <td>103</td>\n",
              "      <td>100</td>\n",
              "      <td>100</td>\n",
              "      <td>100</td>\n",
              "      <td>116</td>\n",
              "      <td>100</td>\n",
              "      <td>100</td>\n",
              "      <td>119</td>\n",
              "      <td>100</td>\n",
              "      <td>100</td>\n",
              "    </tr>\n",
              "    <tr>\n",
              "      <th>2</th>\n",
              "      <td>oct-22</td>\n",
              "      <td>112</td>\n",
              "      <td>148</td>\n",
              "      <td>100</td>\n",
              "      <td>100</td>\n",
              "      <td>126</td>\n",
              "      <td>104</td>\n",
              "      <td>111</td>\n",
              "      <td>119</td>\n",
              "      <td>100</td>\n",
              "      <td>100</td>\n",
              "    </tr>\n",
              "    <tr>\n",
              "      <th>3</th>\n",
              "      <td>nov-22</td>\n",
              "      <td>124</td>\n",
              "      <td>191</td>\n",
              "      <td>104</td>\n",
              "      <td>104</td>\n",
              "      <td>145</td>\n",
              "      <td>105</td>\n",
              "      <td>105</td>\n",
              "      <td>146</td>\n",
              "      <td>100</td>\n",
              "      <td>100</td>\n",
              "    </tr>\n",
              "    <tr>\n",
              "      <th>4</th>\n",
              "      <td>dic-22</td>\n",
              "      <td>128</td>\n",
              "      <td>191</td>\n",
              "      <td>104</td>\n",
              "      <td>104</td>\n",
              "      <td>145</td>\n",
              "      <td>105</td>\n",
              "      <td>105</td>\n",
              "      <td>146</td>\n",
              "      <td>100</td>\n",
              "      <td>100</td>\n",
              "    </tr>\n",
              "    <tr>\n",
              "      <th>5</th>\n",
              "      <td>ene-23</td>\n",
              "      <td>138</td>\n",
              "      <td>250</td>\n",
              "      <td>104</td>\n",
              "      <td>122</td>\n",
              "      <td>168</td>\n",
              "      <td>108</td>\n",
              "      <td>113</td>\n",
              "      <td>183</td>\n",
              "      <td>100</td>\n",
              "      <td>100</td>\n",
              "    </tr>\n",
              "    <tr>\n",
              "      <th>6</th>\n",
              "      <td>feb-23</td>\n",
              "      <td>144</td>\n",
              "      <td>250</td>\n",
              "      <td>104</td>\n",
              "      <td>122</td>\n",
              "      <td>178</td>\n",
              "      <td>115</td>\n",
              "      <td>120</td>\n",
              "      <td>183</td>\n",
              "      <td>100</td>\n",
              "      <td>100</td>\n",
              "    </tr>\n",
              "    <tr>\n",
              "      <th>7</th>\n",
              "      <td>mar-23</td>\n",
              "      <td>156</td>\n",
              "      <td>277</td>\n",
              "      <td>131</td>\n",
              "      <td>149</td>\n",
              "      <td>179</td>\n",
              "      <td>115</td>\n",
              "      <td>121</td>\n",
              "      <td>221</td>\n",
              "      <td>100</td>\n",
              "      <td>114</td>\n",
              "    </tr>\n",
              "    <tr>\n",
              "      <th>8</th>\n",
              "      <td>abr-23</td>\n",
              "      <td>167</td>\n",
              "      <td>551</td>\n",
              "      <td>131</td>\n",
              "      <td>149</td>\n",
              "      <td>283</td>\n",
              "      <td>120</td>\n",
              "      <td>126</td>\n",
              "      <td>221</td>\n",
              "      <td>100</td>\n",
              "      <td>114</td>\n",
              "    </tr>\n",
              "    <tr>\n",
              "      <th>9</th>\n",
              "      <td>may-23</td>\n",
              "      <td>209</td>\n",
              "      <td>584</td>\n",
              "      <td>163</td>\n",
              "      <td>181</td>\n",
              "      <td>298</td>\n",
              "      <td>121</td>\n",
              "      <td>128</td>\n",
              "      <td>275</td>\n",
              "      <td>136</td>\n",
              "      <td>155</td>\n",
              "    </tr>\n",
              "    <tr>\n",
              "      <th>10</th>\n",
              "      <td>jun-23</td>\n",
              "      <td>232</td>\n",
              "      <td>584</td>\n",
              "      <td>163</td>\n",
              "      <td>181</td>\n",
              "      <td>318</td>\n",
              "      <td>126</td>\n",
              "      <td>134</td>\n",
              "      <td>275</td>\n",
              "      <td>136</td>\n",
              "      <td>155</td>\n",
              "    </tr>\n",
              "    <tr>\n",
              "      <th>11</th>\n",
              "      <td>jul-23</td>\n",
              "      <td>236</td>\n",
              "      <td>620</td>\n",
              "      <td>168</td>\n",
              "      <td>186</td>\n",
              "      <td>324</td>\n",
              "      <td>128</td>\n",
              "      <td>136</td>\n",
              "      <td>275</td>\n",
              "      <td>136</td>\n",
              "      <td>155</td>\n",
              "    </tr>\n",
              "  </tbody>\n",
              "</table>\n",
              "</div>\n",
              "    <div class=\"colab-df-buttons\">\n",
              "\n",
              "  <div class=\"colab-df-container\">\n",
              "    <button class=\"colab-df-convert\" onclick=\"convertToInteractive('df-7d5ef684-8627-4d9c-a28f-3f6364b64b89')\"\n",
              "            title=\"Convert this dataframe to an interactive table.\"\n",
              "            style=\"display:none;\">\n",
              "\n",
              "  <svg xmlns=\"http://www.w3.org/2000/svg\" height=\"24px\" viewBox=\"0 -960 960 960\">\n",
              "    <path d=\"M120-120v-720h720v720H120Zm60-500h600v-160H180v160Zm220 220h160v-160H400v160Zm0 220h160v-160H400v160ZM180-400h160v-160H180v160Zm440 0h160v-160H620v160ZM180-180h160v-160H180v160Zm440 0h160v-160H620v160Z\"/>\n",
              "  </svg>\n",
              "    </button>\n",
              "\n",
              "  <style>\n",
              "    .colab-df-container {\n",
              "      display:flex;\n",
              "      gap: 12px;\n",
              "    }\n",
              "\n",
              "    .colab-df-convert {\n",
              "      background-color: #E8F0FE;\n",
              "      border: none;\n",
              "      border-radius: 50%;\n",
              "      cursor: pointer;\n",
              "      display: none;\n",
              "      fill: #1967D2;\n",
              "      height: 32px;\n",
              "      padding: 0 0 0 0;\n",
              "      width: 32px;\n",
              "    }\n",
              "\n",
              "    .colab-df-convert:hover {\n",
              "      background-color: #E2EBFA;\n",
              "      box-shadow: 0px 1px 2px rgba(60, 64, 67, 0.3), 0px 1px 3px 1px rgba(60, 64, 67, 0.15);\n",
              "      fill: #174EA6;\n",
              "    }\n",
              "\n",
              "    .colab-df-buttons div {\n",
              "      margin-bottom: 4px;\n",
              "    }\n",
              "\n",
              "    [theme=dark] .colab-df-convert {\n",
              "      background-color: #3B4455;\n",
              "      fill: #D2E3FC;\n",
              "    }\n",
              "\n",
              "    [theme=dark] .colab-df-convert:hover {\n",
              "      background-color: #434B5C;\n",
              "      box-shadow: 0px 1px 3px 1px rgba(0, 0, 0, 0.15);\n",
              "      filter: drop-shadow(0px 1px 2px rgba(0, 0, 0, 0.3));\n",
              "      fill: #FFFFFF;\n",
              "    }\n",
              "  </style>\n",
              "\n",
              "    <script>\n",
              "      const buttonEl =\n",
              "        document.querySelector('#df-7d5ef684-8627-4d9c-a28f-3f6364b64b89 button.colab-df-convert');\n",
              "      buttonEl.style.display =\n",
              "        google.colab.kernel.accessAllowed ? 'block' : 'none';\n",
              "\n",
              "      async function convertToInteractive(key) {\n",
              "        const element = document.querySelector('#df-7d5ef684-8627-4d9c-a28f-3f6364b64b89');\n",
              "        const dataTable =\n",
              "          await google.colab.kernel.invokeFunction('convertToInteractive',\n",
              "                                                    [key], {});\n",
              "        if (!dataTable) return;\n",
              "\n",
              "        const docLinkHtml = 'Like what you see? Visit the ' +\n",
              "          '<a target=\"_blank\" href=https://colab.research.google.com/notebooks/data_table.ipynb>data table notebook</a>'\n",
              "          + ' to learn more about interactive tables.';\n",
              "        element.innerHTML = '';\n",
              "        dataTable['output_type'] = 'display_data';\n",
              "        await google.colab.output.renderOutput(dataTable, element);\n",
              "        const docLink = document.createElement('div');\n",
              "        docLink.innerHTML = docLinkHtml;\n",
              "        element.appendChild(docLink);\n",
              "      }\n",
              "    </script>\n",
              "  </div>\n",
              "\n",
              "\n",
              "<div id=\"df-49bab3ad-a14d-43bd-ad68-f17a0a9427a0\">\n",
              "  <button class=\"colab-df-quickchart\" onclick=\"quickchart('df-49bab3ad-a14d-43bd-ad68-f17a0a9427a0')\"\n",
              "            title=\"Suggest charts.\"\n",
              "            style=\"display:none;\">\n",
              "\n",
              "<svg xmlns=\"http://www.w3.org/2000/svg\" height=\"24px\"viewBox=\"0 0 24 24\"\n",
              "     width=\"24px\">\n",
              "    <g>\n",
              "        <path d=\"M19 3H5c-1.1 0-2 .9-2 2v14c0 1.1.9 2 2 2h14c1.1 0 2-.9 2-2V5c0-1.1-.9-2-2-2zM9 17H7v-7h2v7zm4 0h-2V7h2v10zm4 0h-2v-4h2v4z\"/>\n",
              "    </g>\n",
              "</svg>\n",
              "  </button>\n",
              "\n",
              "<style>\n",
              "  .colab-df-quickchart {\n",
              "    background-color: #E8F0FE;\n",
              "    border: none;\n",
              "    border-radius: 50%;\n",
              "    cursor: pointer;\n",
              "    display: none;\n",
              "    fill: #1967D2;\n",
              "    height: 32px;\n",
              "    padding: 0 0 0 0;\n",
              "    width: 32px;\n",
              "  }\n",
              "\n",
              "  .colab-df-quickchart:hover {\n",
              "    background-color: #E2EBFA;\n",
              "    box-shadow: 0px 1px 2px rgba(60, 64, 67, 0.3), 0px 1px 3px 1px rgba(60, 64, 67, 0.15);\n",
              "    fill: #174EA6;\n",
              "  }\n",
              "\n",
              "  [theme=dark] .colab-df-quickchart {\n",
              "    background-color: #3B4455;\n",
              "    fill: #D2E3FC;\n",
              "  }\n",
              "\n",
              "  [theme=dark] .colab-df-quickchart:hover {\n",
              "    background-color: #434B5C;\n",
              "    box-shadow: 0px 1px 3px 1px rgba(0, 0, 0, 0.15);\n",
              "    filter: drop-shadow(0px 1px 2px rgba(0, 0, 0, 0.3));\n",
              "    fill: #FFFFFF;\n",
              "  }\n",
              "</style>\n",
              "\n",
              "  <script>\n",
              "    async function quickchart(key) {\n",
              "      const charts = await google.colab.kernel.invokeFunction(\n",
              "          'suggestCharts', [key], {});\n",
              "    }\n",
              "    (() => {\n",
              "      let quickchartButtonEl =\n",
              "        document.querySelector('#df-49bab3ad-a14d-43bd-ad68-f17a0a9427a0 button');\n",
              "      quickchartButtonEl.style.display =\n",
              "        google.colab.kernel.accessAllowed ? 'block' : 'none';\n",
              "    })();\n",
              "  </script>\n",
              "</div>\n",
              "    </div>\n",
              "  </div>\n"
            ]
          },
          "metadata": {},
          "execution_count": 127
        }
      ]
    },
    {
      "cell_type": "code",
      "source": [
        "base.columns"
      ],
      "metadata": {
        "colab": {
          "base_uri": "https://localhost:8080/"
        },
        "id": "5-S6-IzEfKSv",
        "outputId": "dcc4cb96-c85e-47db-9156-0269e2690c05"
      },
      "execution_count": 128,
      "outputs": [
        {
          "output_type": "execute_result",
          "data": {
            "text/plain": [
              "Index(['fecha', 'INDEC', 'AMBA 1', 'AMBA 2', 'AMBA 3', 'INTERIOR 1',\n",
              "       'INTERIOR 2', 'INTERIOR 3', 'GAS 1', 'GAS 2', 'GAS 3'],\n",
              "      dtype='object')"
            ]
          },
          "metadata": {},
          "execution_count": 128
        }
      ]
    },
    {
      "cell_type": "code",
      "source": [
        "from sklearn.decomposition import PCA"
      ],
      "metadata": {
        "id": "X2PrKSmie3XO"
      },
      "execution_count": 129,
      "outputs": []
    },
    {
      "cell_type": "code",
      "source": [
        "columnas=['AMBA 1', 'AMBA 2', 'AMBA 3', 'INTERIOR 1', 'INTERIOR 2', 'INTERIOR 3', 'GAS 1', 'GAS 2', 'GAS 3']"
      ],
      "metadata": {
        "id": "4izGTaZxfVs0"
      },
      "execution_count": 130,
      "outputs": []
    },
    {
      "cell_type": "code",
      "source": [
        "%%capture\n",
        "!pip install umap-learn\n",
        "import umap.umap_ as umap"
      ],
      "metadata": {
        "id": "JHxLbDt7fG5W"
      },
      "execution_count": 131,
      "outputs": []
    },
    {
      "cell_type": "code",
      "source": [
        "trans = umap.UMAP(n_neighbors=2, random_state=42).fit_transform(base[columnas])"
      ],
      "metadata": {
        "id": "gMKkQ_F9fpfn"
      },
      "execution_count": 132,
      "outputs": []
    },
    {
      "cell_type": "code",
      "source": [
        "base['UMPA_trans_1']=trans[:, 0]\n",
        "base['UMPA_trans_2']=trans[:, 1]"
      ],
      "metadata": {
        "id": "hLF9ipsvf381"
      },
      "execution_count": 133,
      "outputs": []
    },
    {
      "cell_type": "code",
      "source": [
        "pca = PCA(n_components=1)\n",
        "trans_pca = pca.fit_transform(base[columnas])"
      ],
      "metadata": {
        "id": "DWkVkbZ-fqoU"
      },
      "execution_count": 134,
      "outputs": []
    },
    {
      "cell_type": "code",
      "source": [
        "base['trans_pca']=trans_pca"
      ],
      "metadata": {
        "id": "WRoCQu8Xf-RE"
      },
      "execution_count": 135,
      "outputs": []
    },
    {
      "cell_type": "code",
      "source": [
        "base.to_csv('indices_red.csv', sep=';')"
      ],
      "metadata": {
        "id": "CDunRpiNq9DP"
      },
      "execution_count": 136,
      "outputs": []
    },
    {
      "cell_type": "markdown",
      "source": [
        "# Random Forest"
      ],
      "metadata": {
        "id": "tzGl-VOC6SxG"
      }
    },
    {
      "cell_type": "code",
      "source": [
        "from sklearn.ensemble import RandomForestRegressor\n",
        "rf=RandomForestRegressor(max_depth=3)\n",
        "rf.fit(base[columnas][:-1], base['INDEC'][:-1])"
      ],
      "metadata": {
        "id": "BK94eSkQ6VHE",
        "outputId": "e0376e06-9a49-4b02-84bc-0c6e2fcbb57e",
        "colab": {
          "base_uri": "https://localhost:8080/",
          "height": 75
        }
      },
      "execution_count": 137,
      "outputs": [
        {
          "output_type": "execute_result",
          "data": {
            "text/plain": [
              "RandomForestRegressor(max_depth=3)"
            ],
            "text/html": [
              "<style>#sk-container-id-20 {color: black;background-color: white;}#sk-container-id-20 pre{padding: 0;}#sk-container-id-20 div.sk-toggleable {background-color: white;}#sk-container-id-20 label.sk-toggleable__label {cursor: pointer;display: block;width: 100%;margin-bottom: 0;padding: 0.3em;box-sizing: border-box;text-align: center;}#sk-container-id-20 label.sk-toggleable__label-arrow:before {content: \"▸\";float: left;margin-right: 0.25em;color: #696969;}#sk-container-id-20 label.sk-toggleable__label-arrow:hover:before {color: black;}#sk-container-id-20 div.sk-estimator:hover label.sk-toggleable__label-arrow:before {color: black;}#sk-container-id-20 div.sk-toggleable__content {max-height: 0;max-width: 0;overflow: hidden;text-align: left;background-color: #f0f8ff;}#sk-container-id-20 div.sk-toggleable__content pre {margin: 0.2em;color: black;border-radius: 0.25em;background-color: #f0f8ff;}#sk-container-id-20 input.sk-toggleable__control:checked~div.sk-toggleable__content {max-height: 200px;max-width: 100%;overflow: auto;}#sk-container-id-20 input.sk-toggleable__control:checked~label.sk-toggleable__label-arrow:before {content: \"▾\";}#sk-container-id-20 div.sk-estimator input.sk-toggleable__control:checked~label.sk-toggleable__label {background-color: #d4ebff;}#sk-container-id-20 div.sk-label input.sk-toggleable__control:checked~label.sk-toggleable__label {background-color: #d4ebff;}#sk-container-id-20 input.sk-hidden--visually {border: 0;clip: rect(1px 1px 1px 1px);clip: rect(1px, 1px, 1px, 1px);height: 1px;margin: -1px;overflow: hidden;padding: 0;position: absolute;width: 1px;}#sk-container-id-20 div.sk-estimator {font-family: monospace;background-color: #f0f8ff;border: 1px dotted black;border-radius: 0.25em;box-sizing: border-box;margin-bottom: 0.5em;}#sk-container-id-20 div.sk-estimator:hover {background-color: #d4ebff;}#sk-container-id-20 div.sk-parallel-item::after {content: \"\";width: 100%;border-bottom: 1px solid gray;flex-grow: 1;}#sk-container-id-20 div.sk-label:hover label.sk-toggleable__label {background-color: #d4ebff;}#sk-container-id-20 div.sk-serial::before {content: \"\";position: absolute;border-left: 1px solid gray;box-sizing: border-box;top: 0;bottom: 0;left: 50%;z-index: 0;}#sk-container-id-20 div.sk-serial {display: flex;flex-direction: column;align-items: center;background-color: white;padding-right: 0.2em;padding-left: 0.2em;position: relative;}#sk-container-id-20 div.sk-item {position: relative;z-index: 1;}#sk-container-id-20 div.sk-parallel {display: flex;align-items: stretch;justify-content: center;background-color: white;position: relative;}#sk-container-id-20 div.sk-item::before, #sk-container-id-20 div.sk-parallel-item::before {content: \"\";position: absolute;border-left: 1px solid gray;box-sizing: border-box;top: 0;bottom: 0;left: 50%;z-index: -1;}#sk-container-id-20 div.sk-parallel-item {display: flex;flex-direction: column;z-index: 1;position: relative;background-color: white;}#sk-container-id-20 div.sk-parallel-item:first-child::after {align-self: flex-end;width: 50%;}#sk-container-id-20 div.sk-parallel-item:last-child::after {align-self: flex-start;width: 50%;}#sk-container-id-20 div.sk-parallel-item:only-child::after {width: 0;}#sk-container-id-20 div.sk-dashed-wrapped {border: 1px dashed gray;margin: 0 0.4em 0.5em 0.4em;box-sizing: border-box;padding-bottom: 0.4em;background-color: white;}#sk-container-id-20 div.sk-label label {font-family: monospace;font-weight: bold;display: inline-block;line-height: 1.2em;}#sk-container-id-20 div.sk-label-container {text-align: center;}#sk-container-id-20 div.sk-container {/* jupyter's `normalize.less` sets `[hidden] { display: none; }` but bootstrap.min.css set `[hidden] { display: none !important; }` so we also need the `!important` here to be able to override the default hidden behavior on the sphinx rendered scikit-learn.org. See: https://github.com/scikit-learn/scikit-learn/issues/21755 */display: inline-block !important;position: relative;}#sk-container-id-20 div.sk-text-repr-fallback {display: none;}</style><div id=\"sk-container-id-20\" class=\"sk-top-container\"><div class=\"sk-text-repr-fallback\"><pre>RandomForestRegressor(max_depth=3)</pre><b>In a Jupyter environment, please rerun this cell to show the HTML representation or trust the notebook. <br />On GitHub, the HTML representation is unable to render, please try loading this page with nbviewer.org.</b></div><div class=\"sk-container\" hidden><div class=\"sk-item\"><div class=\"sk-estimator sk-toggleable\"><input class=\"sk-toggleable__control sk-hidden--visually\" id=\"sk-estimator-id-20\" type=\"checkbox\" checked><label for=\"sk-estimator-id-20\" class=\"sk-toggleable__label sk-toggleable__label-arrow\">RandomForestRegressor</label><div class=\"sk-toggleable__content\"><pre>RandomForestRegressor(max_depth=3)</pre></div></div></div></div></div>"
            ]
          },
          "metadata": {},
          "execution_count": 137
        }
      ]
    },
    {
      "cell_type": "code",
      "source": [
        "base['INDEC'][-1:]"
      ],
      "metadata": {
        "id": "FLwTc2Pk7NrI",
        "outputId": "e2fd3b98-99c6-4380-df78-87ebda70bade",
        "colab": {
          "base_uri": "https://localhost:8080/"
        }
      },
      "execution_count": 138,
      "outputs": [
        {
          "output_type": "execute_result",
          "data": {
            "text/plain": [
              "11    236\n",
              "Name: INDEC, dtype: int64"
            ]
          },
          "metadata": {},
          "execution_count": 138
        }
      ]
    },
    {
      "cell_type": "code",
      "source": [
        "rf.predict(base[columnas][-1:])"
      ],
      "metadata": {
        "id": "yeVbMgHn63B8",
        "outputId": "c398374f-9756-4a68-f884-6216bfac501e",
        "colab": {
          "base_uri": "https://localhost:8080/"
        }
      },
      "execution_count": 139,
      "outputs": [
        {
          "output_type": "execute_result",
          "data": {
            "text/plain": [
              "array([217.04])"
            ]
          },
          "metadata": {},
          "execution_count": 139
        }
      ]
    },
    {
      "cell_type": "code",
      "source": [
        "red1=['UMPA_trans_1', 'UMPA_trans_2']\n",
        "red2=['trans_pca']\n",
        "rf=RandomForestRegressor(max_depth=7)\n",
        "rf.fit(base[red1][:-1], base['INDEC'][:-1])\n",
        "rf.predict(base[red1][-1:])"
      ],
      "metadata": {
        "id": "ITlutIsi9mb7",
        "outputId": "dcb645d6-e2f3-4949-9bcd-e9c0c5114937",
        "colab": {
          "base_uri": "https://localhost:8080/"
        }
      },
      "execution_count": 140,
      "outputs": [
        {
          "output_type": "execute_result",
          "data": {
            "text/plain": [
              "array([189.56])"
            ]
          },
          "metadata": {},
          "execution_count": 140
        }
      ]
    },
    {
      "cell_type": "markdown",
      "source": [
        "# Regresión lineal"
      ],
      "metadata": {
        "id": "zEZPhBeJ8PjX"
      }
    },
    {
      "cell_type": "code",
      "source": [
        "from sklearn.linear_model import LinearRegression\n",
        "l=LinearRegression()"
      ],
      "metadata": {
        "id": "mK0e1yoV8Sr_"
      },
      "execution_count": 141,
      "outputs": []
    },
    {
      "cell_type": "code",
      "source": [
        "l.fit(base[red1][:-1], base['INDEC'][:-1])\n",
        "l.predict(base[red1][-1:])"
      ],
      "metadata": {
        "id": "-0bWK54q8x0B",
        "outputId": "ba88d594-d385-45c6-c350-50dc8ee2a969",
        "colab": {
          "base_uri": "https://localhost:8080/"
        }
      },
      "execution_count": 142,
      "outputs": [
        {
          "output_type": "execute_result",
          "data": {
            "text/plain": [
              "array([191.80954], dtype=float32)"
            ]
          },
          "metadata": {},
          "execution_count": 142
        }
      ]
    },
    {
      "cell_type": "code",
      "source": [
        "l.fit(base[red2][:-1], base['INDEC'][:-1])\n",
        "l.predict(base[red2][-1:])"
      ],
      "metadata": {
        "id": "zcu_3-HN81wL",
        "outputId": "18840d47-bddb-4b64-e726-54e596709e94",
        "colab": {
          "base_uri": "https://localhost:8080/"
        }
      },
      "execution_count": 143,
      "outputs": [
        {
          "output_type": "execute_result",
          "data": {
            "text/plain": [
              "array([217.30054542])"
            ]
          },
          "metadata": {},
          "execution_count": 143
        }
      ]
    },
    {
      "cell_type": "code",
      "source": [
        "l.fit(base[columnas][:-1], base['INDEC'][:-1])\n",
        "l.predict(base[columnas][-1:])"
      ],
      "metadata": {
        "id": "i1YtRcOk8_7s",
        "outputId": "823dc23c-566d-4e8a-87e5-1b32561015dc",
        "colab": {
          "base_uri": "https://localhost:8080/"
        }
      },
      "execution_count": 144,
      "outputs": [
        {
          "output_type": "execute_result",
          "data": {
            "text/plain": [
              "array([288.99119119])"
            ]
          },
          "metadata": {},
          "execution_count": 144
        }
      ]
    },
    {
      "cell_type": "markdown",
      "source": [
        "# Rezago"
      ],
      "metadata": {
        "id": "jIqJGaFP-L2Y"
      }
    },
    {
      "cell_type": "code",
      "source": [
        "base['L.INDEC']=base['INDEC'].shift()"
      ],
      "metadata": {
        "id": "LSEggYoj-NXm"
      },
      "execution_count": 145,
      "outputs": []
    },
    {
      "cell_type": "code",
      "source": [
        "rf=RandomForestRegressor(max_depth=7)\n",
        "rf.fit(base[red1+['L.INDEC']][1:-1], base['INDEC'][1:-1])\n",
        "rf.predict(base[red1+['L.INDEC']][-1:])"
      ],
      "metadata": {
        "id": "6qK0g5g2-eM_",
        "outputId": "4c11b1c6-14a8-4231-aa7b-c72472b29329",
        "colab": {
          "base_uri": "https://localhost:8080/"
        }
      },
      "execution_count": 146,
      "outputs": [
        {
          "output_type": "execute_result",
          "data": {
            "text/plain": [
              "array([200.57])"
            ]
          },
          "metadata": {},
          "execution_count": 146
        }
      ]
    },
    {
      "cell_type": "code",
      "source": [
        "rf=RandomForestRegressor(max_depth=12)\n",
        "rf.fit(base[columnas+['L.INDEC']][1:-1], base['INDEC'][1:-1])\n",
        "rf.predict(base[columnas+['L.INDEC']][-1:])"
      ],
      "metadata": {
        "id": "xMwHANVO-7qy",
        "outputId": "3698a25b-a4d1-49fd-ff32-b1e03c71a26c",
        "colab": {
          "base_uri": "https://localhost:8080/"
        }
      },
      "execution_count": 147,
      "outputs": [
        {
          "output_type": "execute_result",
          "data": {
            "text/plain": [
              "array([217.81])"
            ]
          },
          "metadata": {},
          "execution_count": 147
        }
      ]
    },
    {
      "cell_type": "code",
      "source": [
        "for column in columnas:\n",
        "    base[f'L.{column}'] = base[column].shift(1)"
      ],
      "metadata": {
        "id": "kEeVI2mGAktT"
      },
      "execution_count": 148,
      "outputs": []
    },
    {
      "cell_type": "code",
      "source": [
        "Lcolumnas=list(base.columns)\n",
        "Lcolumnas.remove('fecha')"
      ],
      "metadata": {
        "id": "D03bE0jCBaJ8"
      },
      "execution_count": 162,
      "outputs": []
    },
    {
      "cell_type": "code",
      "source": [
        "rf=RandomForestRegressor(max_depth=4)\n",
        "rf.fit(base[Lcolumnas][1:-1], base['INDEC'][1:-1])\n",
        "rf.predict(base[Lcolumnas][-1:])"
      ],
      "metadata": {
        "id": "6m49zk0ECB9A",
        "outputId": "e50961d0-2f9b-4601-da0b-8b4d87ee9677",
        "colab": {
          "base_uri": "https://localhost:8080/"
        }
      },
      "execution_count": 168,
      "outputs": [
        {
          "output_type": "execute_result",
          "data": {
            "text/plain": [
              "array([218.12])"
            ]
          },
          "metadata": {},
          "execution_count": 168
        }
      ]
    },
    {
      "cell_type": "markdown",
      "source": [
        "# ARMA"
      ],
      "metadata": {
        "id": "adEQ_AKLDMLb"
      }
    },
    {
      "cell_type": "code",
      "source": [
        "from statsmodels.tsa.ar_model import AutoReg\n",
        "model = AutoReg(base['INDEC'], lags=2)\n",
        "results = model.fit()"
      ],
      "metadata": {
        "id": "U2jVTthfEg-E"
      },
      "execution_count": 178,
      "outputs": []
    },
    {
      "cell_type": "code",
      "source": [
        "predictions=results.predict(start=2, end=len(base)-1)"
      ],
      "metadata": {
        "id": "PvyUaqfUEpw3"
      },
      "execution_count": 194,
      "outputs": []
    },
    {
      "cell_type": "code",
      "source": [
        "import matplotlib.pyplot as plt\n",
        "plt.plot(base['fecha'], base['INDEC'], label='Original Data')\n",
        "plt.plot(base['fecha'][2:], predictions, label='Predictions', linestyle='dashed')\n",
        "plt.xlabel('Time')\n",
        "plt.ylabel('Data')\n",
        "plt.title('AR Model Predictions')\n",
        "plt.legend()\n",
        "plt.show()"
      ],
      "metadata": {
        "id": "PFM2v9w-FG4A",
        "outputId": "3e352924-28c9-4916-ff16-d1e520022d29",
        "colab": {
          "base_uri": "https://localhost:8080/",
          "height": 472
        }
      },
      "execution_count": 195,
      "outputs": [
        {
          "output_type": "display_data",
          "data": {
            "text/plain": [
              "<Figure size 640x480 with 1 Axes>"
            ],
            "image/png": "[encoded data removed]"
          },
          "metadata": {}
        }
      ]
    },
    {
      "cell_type": "code",
      "source": [
        "predictions[-1:]"
      ],
      "metadata": {
        "id": "me4optobFr9C",
        "outputId": "f86004af-dc7e-444c-af55-68b556ffcd61",
        "colab": {
          "base_uri": "https://localhost:8080/"
        }
      },
      "execution_count": 197,
      "outputs": [
        {
          "output_type": "execute_result",
          "data": {
            "text/plain": [
              "11    249.451882\n",
              "dtype: float64"
            ]
          },
          "metadata": {},
          "execution_count": 197
        }
      ]
    },
    {
      "cell_type": "code",
      "source": [
        "from statsmodels.tsa.arima.model import ARIMA\n",
        "mod = ARIMA(base.INDEC[:-1] , order=(1, 0, 1))\n",
        "res = mod.fit()\n",
        "print(res.summary())"
      ],
      "metadata": {
        "id": "q7OMGPs-DNJb",
        "outputId": "dee9ae6a-892c-43a7-ca31-c56e03163d9d",
        "colab": {
          "base_uri": "https://localhost:8080/"
        }
      },
      "execution_count": 176,
      "outputs": [
        {
          "output_type": "stream",
          "name": "stdout",
          "text": [
            "                               SARIMAX Results                                \n",
            "==============================================================================\n",
            "Dep. Variable:                  INDEC   No. Observations:                   11\n",
            "Model:                 ARIMA(1, 0, 1)   Log Likelihood                 -46.104\n",
            "Date:                Wed, 23 Aug 2023   AIC                            100.207\n",
            "Time:                        15:41:57   BIC                            101.799\n",
            "Sample:                             0   HQIC                            99.204\n",
            "                                 - 11                                         \n",
            "Covariance Type:                  opg                                         \n",
            "==============================================================================\n",
            "                 coef    std err          z      P>|z|      [0.025      0.975]\n",
            "------------------------------------------------------------------------------\n",
            "const        160.5765     61.995      2.590      0.010      39.069     282.084\n",
            "ar.L1          0.9312      0.765      1.217      0.224      -0.568       2.431\n",
            "ma.L1          0.5263      1.194      0.441      0.659      -1.815       2.867\n",
            "sigma2       192.3045    106.186      1.811      0.070     -15.816     400.425\n",
            "===================================================================================\n",
            "Ljung-Box (L1) (Q):                   0.00   Jarque-Bera (JB):                 6.38\n",
            "Prob(Q):                              0.98   Prob(JB):                         0.04\n",
            "Heteroskedasticity (H):               6.36   Skew:                             1.37\n",
            "Prob(H) (two-sided):                  0.10   Kurtosis:                         5.54\n",
            "===================================================================================\n",
            "\n",
            "Warnings:\n",
            "[1] Covariance matrix calculated using the outer product of gradients (complex-step).\n"
          ]
        },
        {
          "output_type": "stream",
          "name": "stderr",
          "text": [
            "/usr/local/lib/python3.10/dist-packages/statsmodels/tsa/statespace/sarimax.py:966: UserWarning: Non-stationary starting autoregressive parameters found. Using zeros as starting parameters.\n",
            "  warn('Non-stationary starting autoregressive parameters'\n"
          ]
        }
      ]
    },
    {
      "cell_type": "code",
      "source": [
        "res.forecast()"
      ],
      "metadata": {
        "id": "7_8gxpK7DcdP",
        "outputId": "db895fbf-cd2e-47a7-e0b2-9f6a812a589b",
        "colab": {
          "base_uri": "https://localhost:8080/"
        }
      },
      "execution_count": 177,
      "outputs": [
        {
          "output_type": "execute_result",
          "data": {
            "text/plain": [
              "11    229.907223\n",
              "dtype: float64"
            ]
          },
          "metadata": {},
          "execution_count": 177
        }
      ]
    }
  ]
}