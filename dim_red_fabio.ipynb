{
  "nbformat": 4,
  "nbformat_minor": 0,
  "metadata": {
    "colab": {
      "provenance": [],
      "authorship_tag": "ABX9TyNji+TcwXNPT04h3DC3gOJR",
      "include_colab_link": true
    },
    "kernelspec": {
      "name": "python3",
      "display_name": "Python 3"
    },
    "language_info": {
      "name": "python"
    }
  },
  "cells": [
    {
      "cell_type": "markdown",
      "metadata": {
        "id": "view-in-github",
        "colab_type": "text"
      },
      "source": [
        "<a href=\"https://colab.research.google.com/github/LCaravaggio/Cosas_Sueltas/blob/main/dim_red_fabio.ipynb\" target=\"_parent\"><img src=\"https://colab.research.google.com/assets/colab-badge.svg\" alt=\"Open In Colab\"/></a>"
      ]
    },
    {
      "cell_type": "code",
      "execution_count": 1,
      "metadata": {
        "id": "TxfC5o5qY80N"
      },
      "outputs": [],
      "source": [
        "import pandas as pd"
      ]
    },
    {
      "cell_type": "code",
      "source": [
        "base=pd.read_csv('/content/Indices para regresion.csv', sep=';')"
      ],
      "metadata": {
        "id": "7jhJPbjHZK4O"
      },
      "execution_count": 4,
      "outputs": []
    },
    {
      "cell_type": "code",
      "source": [
        "base.columns"
      ],
      "metadata": {
        "colab": {
          "base_uri": "https://localhost:8080/"
        },
        "id": "5-S6-IzEfKSv",
        "outputId": "61675519-04a2-404a-a22d-258296fc3d1f"
      },
      "execution_count": 5,
      "outputs": [
        {
          "output_type": "execute_result",
          "data": {
            "text/plain": [
              "Index(['fecha', 'INDEC', 'AMBA 1', 'AMBA 2', 'AMBA 3', 'INTERIOR 1',\n",
              "       'INTERIOR 2', 'INTERIOR 3', 'GAS 1', 'GAS 2', 'GAS 3'],\n",
              "      dtype='object')"
            ]
          },
          "metadata": {},
          "execution_count": 5
        }
      ]
    },
    {
      "cell_type": "code",
      "source": [
        "from sklearn.decomposition import PCA"
      ],
      "metadata": {
        "id": "X2PrKSmie3XO"
      },
      "execution_count": 13,
      "outputs": []
    },
    {
      "cell_type": "code",
      "source": [
        "columnas=['AMBA 1', 'AMBA 2', 'AMBA 3', 'INTERIOR 1',\n",
        "       'INTERIOR 2', 'INTERIOR 3', 'GAS 1', 'GAS 2', 'GAS 3']"
      ],
      "metadata": {
        "id": "4izGTaZxfVs0"
      },
      "execution_count": 7,
      "outputs": []
    },
    {
      "cell_type": "code",
      "source": [
        "%%capture\n",
        "!pip install umap-learn\n",
        "import umap.umap_ as umap"
      ],
      "metadata": {
        "id": "JHxLbDt7fG5W"
      },
      "execution_count": 9,
      "outputs": []
    },
    {
      "cell_type": "code",
      "source": [
        "trans = umap.UMAP(n_neighbors=2, random_state=42).fit_transform(base[columnas])"
      ],
      "metadata": {
        "id": "gMKkQ_F9fpfn"
      },
      "execution_count": 33,
      "outputs": []
    },
    {
      "cell_type": "code",
      "source": [
        "base['UMPA_trans_1']=trans[:, 0]\n",
        "base['UMPA_trans_2']=trans[:, 1]"
      ],
      "metadata": {
        "id": "hLF9ipsvf381"
      },
      "execution_count": 42,
      "outputs": []
    },
    {
      "cell_type": "code",
      "source": [
        "pca = PCA(n_components=1)\n",
        "trans_pca = pca.fit_transform(base[columnas])"
      ],
      "metadata": {
        "id": "DWkVkbZ-fqoU"
      },
      "execution_count": 28,
      "outputs": []
    },
    {
      "cell_type": "code",
      "source": [
        "base['trans_pca']=trans_pca"
      ],
      "metadata": {
        "id": "WRoCQu8Xf-RE"
      },
      "execution_count": 30,
      "outputs": []
    },
    {
      "cell_type": "code",
      "source": [
        "base.to_csv('indices_red.csv', sep=';')"
      ],
      "metadata": {
        "id": "CDunRpiNq9DP"
      },
      "execution_count": 45,
      "outputs": []
    }
  ]
}