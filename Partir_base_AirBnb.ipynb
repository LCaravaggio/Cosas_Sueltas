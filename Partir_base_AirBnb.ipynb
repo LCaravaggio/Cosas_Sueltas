{
  "nbformat": 4,
  "nbformat_minor": 0,
  "metadata": {
    "colab": {
      "provenance": [],
      "authorship_tag": "ABX9TyPftlVGAhgROs8VIeFXTCHK",
      "include_colab_link": true
    },
    "kernelspec": {
      "name": "python3",
      "display_name": "Python 3"
    },
    "language_info": {
      "name": "python"
    }
  },
  "cells": [
    {
      "cell_type": "markdown",
      "metadata": {
        "id": "view-in-github",
        "colab_type": "text"
      },
      "source": [
        "<a href=\"https://colab.research.google.com/github/LCaravaggio/Cosas_Sueltas/blob/main/Partir_base_AirBnb.ipynb\" target=\"_parent\"><img src=\"https://colab.research.google.com/assets/colab-badge.svg\" alt=\"Open In Colab\"/></a>"
      ]
    },
    {
      "cell_type": "code",
      "execution_count": null,
      "metadata": {
        "id": "cz_ojNFHpLzV"
      },
      "outputs": [],
      "source": [
        "import pandas as pd"
      ]
    },
    {
      "cell_type": "code",
      "source": [
        "df=pd.read_csv('/content/listings.csv')\n",
        "df = df[df['review_scores_rating'].notna()]"
      ],
      "metadata": {
        "id": "m39cgcABpSMN"
      },
      "execution_count": null,
      "outputs": []
    },
    {
      "cell_type": "code",
      "source": [
        "df.drop(\"listing_url\", axis=1, inplace=True)\n",
        "df.drop(\"scrape_id\", axis=1, inplace=True)\n",
        "df.drop(\"last_scraped\", axis=1, inplace=True)\n",
        "df.drop(\"picture_url\", axis=1, inplace=True)\n",
        "df.drop(\"host_url\", axis=1, inplace=True)\n",
        "df.drop(\"host_thumbnail_url\", axis=1, inplace=True)\n",
        "df.drop(\"host_picture_url\", axis=1, inplace=True)"
      ],
      "metadata": {
        "id": "gRT62943qSml"
      },
      "execution_count": null,
      "outputs": []
    },
    {
      "cell_type": "code",
      "source": [
        "from sklearn.model_selection import train_test_split"
      ],
      "metadata": {
        "id": "l-KMRWT8q9NN"
      },
      "execution_count": null,
      "outputs": []
    },
    {
      "cell_type": "code",
      "source": [
        "base_train, base_val = train_test_split(df, test_size=0.2, random_state=42, shuffle=False)"
      ],
      "metadata": {
        "id": "Nm1Bd1y2rAj0"
      },
      "execution_count": 97,
      "outputs": []
    },
    {
      "cell_type": "code",
      "source": [
        "r=['review_scores_rating', 'id']\n",
        "rating=base_val[r]\n",
        "base_val.drop(\"review_scores_rating\", axis=1, inplace=True)\n",
        "rating.to_csv(\"/content/sample_data/rating.csv\",index=False)\n",
        "base_val.to_csv(\"/content/sample_data/base_val.csv\", index=False)\n",
        "base_train.to_csv(\"/content/sample_data/base_train.csv\", index=False)"
      ],
      "metadata": {
        "id": "mdl6nMInrMws"
      },
      "execution_count": 98,
      "outputs": []
    },
    {
      "cell_type": "code",
      "source": [
        "rating['review_scores_rating']=0\n",
        "rating.to_csv(\"/content/sample_data/rating.csv\",index=False)"
      ],
      "metadata": {
        "colab": {
          "base_uri": "https://localhost:8080/"
        },
        "id": "5Y3EAptA1t0w",
        "outputId": "37f79dd9-69bd-4ccf-9efb-6ef1299ea1ee"
      },
      "execution_count": 100,
      "outputs": [
        {
          "output_type": "stream",
          "name": "stderr",
          "text": [
            "<ipython-input-100-53b01bae3724>:1: SettingWithCopyWarning: \n",
            "A value is trying to be set on a copy of a slice from a DataFrame.\n",
            "Try using .loc[row_indexer,col_indexer] = value instead\n",
            "\n",
            "See the caveats in the documentation: https://pandas.pydata.org/pandas-docs/stable/user_guide/indexing.html#returning-a-view-versus-a-copy\n",
            "  rating['review_scores_rating']=0\n"
          ]
        }
      ]
    }
  ]
}