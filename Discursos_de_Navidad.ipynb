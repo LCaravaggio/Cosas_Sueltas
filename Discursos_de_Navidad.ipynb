{
  "nbformat": 4,
  "nbformat_minor": 0,
  "metadata": {
    "colab": {
      "provenance": [],
      "authorship_tag": "ABX9TyPruX1J+lO2RoeW65l6li14",
      "include_colab_link": true
    },
    "kernelspec": {
      "name": "python3",
      "display_name": "Python 3"
    },
    "language_info": {
      "name": "python"
    }
  },
  "cells": [
    {
      "cell_type": "markdown",
      "metadata": {
        "id": "view-in-github",
        "colab_type": "text"
      },
      "source": [
        "<a href=\"https://colab.research.google.com/github/LCaravaggio/Cosas_Sueltas/blob/main/Discursos_de_Navidad.ipynb\" target=\"_parent\"><img src=\"https://colab.research.google.com/assets/colab-badge.svg\" alt=\"Open In Colab\"/></a>"
      ]
    },
    {
      "cell_type": "code",
      "source": [
        "%%capture\n",
        "!python -m spacy download es_core_news_sm"
      ],
      "metadata": {
        "id": "38BWBRYrkgSR"
      },
      "execution_count": 14,
      "outputs": []
    },
    {
      "cell_type": "code",
      "source": [
        "!git clone https://github.com/lirondos/discursos-de-navidad.git"
      ],
      "metadata": {
        "colab": {
          "base_uri": "https://localhost:8080/"
        },
        "id": "OQpkjwFVlacZ",
        "outputId": "60978033-9d46-4cf0-bcbe-cf8e345929a4"
      },
      "execution_count": 18,
      "outputs": [
        {
          "output_type": "stream",
          "name": "stdout",
          "text": [
            "Cloning into 'discursos-de-navidad'...\n",
            "remote: Enumerating objects: 362, done.\u001b[K\n",
            "remote: Counting objects: 100% (19/19), done.\u001b[K\n",
            "remote: Compressing objects: 100% (10/10), done.\u001b[K\n",
            "remote: Total 362 (delta 13), reused 9 (delta 9), pack-reused 343\u001b[K\n",
            "Receiving objects: 100% (362/362), 3.35 MiB | 8.50 MiB/s, done.\n",
            "Resolving deltas: 100% (177/177), done.\n"
          ]
        }
      ]
    },
    {
      "cell_type": "code",
      "source": [
        "%cd discursos-de-navidad"
      ],
      "metadata": {
        "colab": {
          "base_uri": "https://localhost:8080/"
        },
        "id": "d8iZQJUTl9cX",
        "outputId": "10601450-3d3b-4393-b266-121a47bf0da2"
      },
      "execution_count": 24,
      "outputs": [
        {
          "output_type": "stream",
          "name": "stdout",
          "text": [
            "/content/discursos-de-navidad\n"
          ]
        }
      ]
    },
    {
      "cell_type": "code",
      "source": [
        "!python speech.py"
      ],
      "metadata": {
        "id": "1iHxyKWg0UW6"
      },
      "execution_count": 26,
      "outputs": []
    },
    {
      "cell_type": "code",
      "source": [
        "!python corpus.py"
      ],
      "metadata": {
        "colab": {
          "base_uri": "https://localhost:8080/"
        },
        "id": "qU_xFR5L0-51",
        "outputId": "4c5f647e-fe53-4d5e-c548-fcca7ad13844"
      },
      "execution_count": 27,
      "outputs": [
        {
          "output_type": "stream",
          "name": "stdout",
          "text": [
            "Lexical data for period from 1937 to 2021\n",
            "79 total speeches\n",
            "210605 total words\n",
            "2665.8860759493673 words per speech\n",
            "Frequency distribution:\n",
            "[('de', 13519), (',', 11833), ('y', 8453), ('la', 8295), ('que', 7149), ('.', 5754), ('en', 5600), ('el', 4634), ('a', 4099), ('los', 4010), ('las', 2563), ('con', 2113), ('del', 1629), ('para', 1580), ('una', 1577), ('por', 1570), ('se', 1520), ('no', 1519), ('un', 1516), ('nuestra', 1332), ('es', 1295), ('su', 1230), ('más', 1115), ('al', 942), ('lo', 931), ('todos', 889), ('nos', 867), ('españa', 819), ('como', 808), ('nuestro', 788), ('sus', 786), ('ha', 782), (';', 709), ('esta', 537), ('españoles', 517), ('hemos', 514), ('o', 508), ('sin', 504), ('nuestros', 476), ('han', 463), ('año', 441), ('política', 436), ('si', 432), ('este', 424), ('nuestras', 408), ('paz', 402), ('mundo', 397), ('vida', 376), ('pero', 368), ('son', 364)]\n",
            "Content words frequency distribution:\n",
            "[('españa', 819), ('españoles', 517), ('año', 441), ('política', 436), ('paz', 402), ('mundo', 397), ('vida', 376), ('social', 338), ('años', 336), ('pueblo', 294), ('nación', 285), ('nacional', 280), ('patria', 272), ('futuro', 268), ('sociedad', 266), ('pueblos', 265), ('problemas', 216), ('orden', 201), ('país', 200), ('desarrollo', 198), ('unidad', 194), ('debemos', 189), ('historia', 187), ('voluntad', 179), ('libertad', 179), ('países', 176), ('justicia', 175), ('trabajo', 175), ('progreso', 174), ('naciones', 173), ('español', 169), ('tiempo', 167), ('sociales', 167), ('convivencia', 167), ('esfuerzo', 166), ('económico', 160), ('económica', 160), ('española', 155), ('instituciones', 155), ('espíritu', 152), ('seguridad', 150), ('político', 150), ('situación', 148), ('internacional', 145), ('familia', 144), ('guerra', 140), ('obra', 138), ('dios', 135), ('camino', 132), ('servicio', 132)]\n",
            "Unique words frequency distribution:\n",
            "The corpus contains all speeches, so no comparison can be made\n",
            "Most frequent content bigrams:\n",
            "[(('pueblo', 'español'), 78), (('movimiento', 'nacional'), 41), (('sociedad', 'española'), 36), (('arriba', 'españa'), 35), (('justicia', 'social'), 32), (('veinte', 'años'), 30), (('desarrollo', 'económico'), 30), (('españa', 'españoles'), 29), (('sistema', 'político'), 29), (('unión', 'europea'), 28), (('mejores', 'deseos'), 26), (('vida', 'política'), 25), (('crisis', 'económica'), 25), (('progreso', 'económico'), 23), (('política', 'económica'), 22), (('vida', 'nacional'), 21), (('política', 'social'), 21), (('económico', 'social'), 19), (('revolución', 'nacional'), 19), (('fuerzas', 'armadas'), 18), (('materias', 'primas'), 17), (('vida', 'pública'), 17), (('interés', 'general'), 17), (('veinticinco', 'años'), 17), (('respeto', 'mutuo'), 16), (('política', 'exterior'), 15), (('treinta', 'años'), 15), (('fuerzas', 'políticas'), 15), (('feliz', 'navidad'), 15), (('estabilidad', 'política'), 14), (('orden', 'político'), 14), (('naciones', 'unidas'), 14), (('seguridad', 'social'), 14), (('obras', 'públicas'), 13), (('guerra', 'fría'), 13), (('leyes', 'fundamentales'), 13), (('convivencia', 'democrática'), 13), (('tantos', 'años'), 12), (('hogares', 'españoles'), 12), (('comunismo', 'internacional'), 12), (('inmensa', 'mayoría'), 12), (('seres', 'queridos'), 11), (('vida', 'económica'), 11), (('vida', 'española'), 11), (('vida', 'colectiva'), 11), (('política', 'nacional'), 11), (('política', 'internacional'), 11), (('renta', 'nacional'), 11), (('ley', 'orgánica'), 11), (('debemos', 'seguir'), 11)]\n",
            "Most frequent content trigrams:\n",
            "[(('nivel', 'de', 'vida'), 35), (('año', 'que', 'termina'), 35), (('arriba', 'españa', 'españoles'), 29), (('millones', 'de', 'pesetas'), 26), (('balanza', 'de', 'pagos'), 23), (('plan', 'de', 'desarrollo'), 22), (('económico', 'y', 'social'), 21), (('hombres', 'y', 'mujeres'), 21), (('igualdad', 'de', 'oportunidades'), 17), (('ayuda', 'de', 'dios'), 16), (('económicos', 'y', 'sociales'), 16), (('derechos', 'y', 'libertades'), 15), (('año', 'que', 'comienza'), 13), (('cuerpos', 'de', 'seguridad'), 13), (('mano', 'de', 'obra'), 12), (('años', 'de', 'paz'), 12), (('cuarto', 'de', 'siglo'), 12), (('condiciones', 'de', 'vida'), 11), (('deseos', 'de', 'paz'), 11), (('económica', 'y', 'social'), 11), (('víctimas', 'del', 'terrorismo'), 11), (('deseos', 'de', 'felicidad'), 10), (('altura', 'de', 'miras'), 10), (('pido', 'a', 'dios'), 10), (('noches', 'buenas', 'noches'), 10), (('guerra', 'de', 'liberación'), 9), (('futuro', 'de', 'españa'), 9), (('puestos', 'de', 'trabajo'), 9), (('puesto', 'de', 'manifiesto'), 9), (('príncipe', 'de', 'asturias'), 9), (('espíritu', 'de', 'servicio'), 8), (('año', 'tras', 'año'), 8), (('telón', 'de', 'acero'), 8), (('principio', 'de', 'autoridad'), 8), (('consejo', 'del', 'reino'), 8), (('lucha', 'de', 'clases'), 8), (('económicas', 'y', 'sociales'), 8), (('patria', 'arriba', 'españa'), 8), (('príncipe', 'de', 'españa'), 8), (('fiestas', 'de', 'navidad'), 8), (('principios', 'y', 'valores'), 8), (('eguberri', 'on', 'bon'), 8), (('on', 'bon', 'nadal'), 8), (('pueblos', 'de', 'europa'), 7), (('millones', 'de', 'dólares'), 7), (('fuentes', 'de', 'producción'), 7), (('histórica', 'de', 'españa'), 7), (('obra', 'de', 'gobierno'), 7), (('ley', 'de', 'dios'), 7), (('progreso', 'y', 'bienestar'), 7)]\n",
            "#######################################\n",
            "No speech for year 1940\n",
            "No speech for year 1941\n",
            "No speech for year 1942\n",
            "No speech for year 1943\n",
            "No speech for year 1944\n",
            "No speech for year 1945\n",
            "Lexical data for period from 1937 to 1974\n",
            "32 total speeches\n",
            "140827 total words\n",
            "4400.84375 words per speech\n",
            "Frequency distribution:\n",
            "[('de', 9667), (',', 7662), ('la', 5875), ('y', 5188), ('que', 4747), ('en', 3670), ('.', 3361), ('el', 3314), ('los', 2865), ('a', 2635), ('las', 1874), ('con', 1269), ('del', 1241), ('se', 1143), ('no', 1124), ('por', 1095), ('una', 1063), ('un', 957), ('su', 923), ('para', 903), ('nuestra', 869), ('es', 859), ('más', 749), ('al', 677), ('lo', 617), ('ha', 563), ('sus', 552), ('nuestro', 498), (';', 487), ('nos', 483), ('españa', 470), ('como', 449), ('todos', 433), ('política', 375), ('si', 358), ('sin', 338), ('esta', 334), ('o', 330), ('hemos', 305), ('mundo', 296), ('han', 296), ('españoles', 296), ('este', 279), ('vida', 274), ('año', 269), ('nuestros', 265), ('años', 263), ('paz', 260), ('nuestras', 257), ('social', 255)]\n",
            "Content words frequency distribution:\n",
            "[('españa', 470), ('política', 375), ('mundo', 296), ('españoles', 296), ('vida', 274), ('año', 269), ('años', 263), ('paz', 260), ('social', 255), ('nacional', 247), ('pueblo', 236), ('nación', 235), ('patria', 221), ('pueblos', 218), ('orden', 181), ('desarrollo', 145), ('naciones', 142), ('problemas', 140), ('unidad', 138), ('guerra', 135), ('obra', 135), ('países', 135), ('español', 134), ('económico', 134), ('político', 128), ('movimiento', 123), ('futuro', 121), ('justicia', 120), ('trabajo', 118), ('situación', 116), ('dios', 114), ('tiempo', 113), ('española', 112), ('país', 112), ('historia', 111), ('económica', 108), ('espíritu', 105), ('gobierno', 104), ('sociales', 104), ('fe', 102), ('sistema', 97), ('voluntad', 96), ('régimen', 96), ('servicio', 93), ('progreso', 93), ('sociedad', 92), ('acción', 91), ('ley', 90), ('internacional', 90), ('hombres', 89)]\n",
            "Unique words frequency distribution:\n",
            "[('comunismo', 88), ('iglesia', 56), ('plan', 45), ('cruzada', 44), ('doctrina', 44), ('resurgimiento', 41), ('arriba', 37), ('oro', 37), ('cosa', 37), ('comunista', 33), ('superior', 32), ('balanza', 31), ('pesetas', 31), ('consumo', 30), ('órganos', 30), ('comercio', 28), ('productos', 28), ('planes', 27), ('abandono', 25), ('rusia', 25), ('estudio', 24), ('agrícola', 24), ('pagos', 23), ('suerte', 23), ('subversión', 23), ('materias', 22), ('organismos', 22), ('procedimientos', 22), ('estructura', 22), ('sindical', 22), ('aumento', 21), ('solamente', 21), ('liberal', 20), ('católica', 20), ('renta', 20), ('orgánica', 20), ('liberación', 19), ('enemigo', 19), ('rendimiento', 19), ('producciones', 19), ('occidental', 19), ('imperativos', 19), ('batallas', 18), ('primas', 18), ('católico', 18), ('superiores', 18), ('imperialismo', 18), ('viejo', 18), ('fué', 18), ('sindicalismo', 18)]\n",
            "Most frequent content bigrams:\n",
            "[(('pueblo', 'español'), 60), (('movimiento', 'nacional'), 41), (('arriba', 'españa'), 35), (('españa', 'españoles'), 29), (('justicia', 'social'), 29), (('desarrollo', 'económico'), 28), (('sistema', 'político'), 26), (('veinte', 'años'), 25), (('progreso', 'económico'), 19), (('revolución', 'nacional'), 19), (('vida', 'política'), 19), (('política', 'social'), 18), (('económico', 'social'), 17), (('materias', 'primas'), 17), (('vida', 'nacional'), 17), (('política', 'económica'), 15), (('veinticinco', 'años'), 15), (('orden', 'político'), 14), (('política', 'exterior'), 14), (('seguridad', 'social'), 14), (('sociedad', 'española'), 14), (('obras', 'públicas'), 13), (('treinta', 'años'), 13), (('guerra', 'fría'), 13), (('leyes', 'fundamentales'), 13), (('vida', 'pública'), 12), (('comunismo', 'internacional'), 12), (('vida', 'económica'), 11), (('tantos', 'años'), 11), (('hogares', 'españoles'), 11), (('política', 'nacional'), 11), (('política', 'internacional'), 11), (('renta', 'nacional'), 11), (('ley', 'orgánica'), 11), (('régimen', 'español'), 10), (('desarrollo', 'político'), 10), (('consejo', 'nacional'), 10), (('vida', 'española'), 9), (('naciones', 'unidas'), 9), (('conquistas', 'sociales'), 9), (('acción', 'política'), 9), (('orden', 'espiritual'), 9), (('mundo', 'occidental'), 9), (('continente', 'africano'), 9), (('sistemas', 'políticos'), 9), (('cortes', 'españolas'), 9), (('comercio', 'exterior'), 8), (('iniciativa', 'privada'), 8), (('iglesia', 'católica'), 8), (('comunidad', 'nacional'), 8)]\n",
            "Most frequent content trigrams:\n",
            "[(('nivel', 'de', 'vida'), 34), (('año', 'que', 'termina'), 32), (('arriba', 'españa', 'españoles'), 29), (('millones', 'de', 'pesetas'), 26), (('balanza', 'de', 'pagos'), 23), (('plan', 'de', 'desarrollo'), 22), (('ayuda', 'de', 'dios'), 15), (('económico', 'y', 'social'), 14), (('mano', 'de', 'obra'), 12), (('años', 'de', 'paz'), 12), (('año', 'que', 'comienza'), 11), (('cuarto', 'de', 'siglo'), 11), (('igualdad', 'de', 'oportunidades'), 10), (('guerra', 'de', 'liberación'), 9), (('telón', 'de', 'acero'), 8), (('principio', 'de', 'autoridad'), 8), (('consejo', 'del', 'reino'), 8), (('lucha', 'de', 'clases'), 8), (('patria', 'arriba', 'españa'), 8), (('príncipe', 'de', 'españa'), 8), (('pueblos', 'de', 'europa'), 7), (('millones', 'de', 'dólares'), 7), (('espíritu', 'de', 'servicio'), 7), (('fuentes', 'de', 'producción'), 7), (('histórica', 'de', 'españa'), 7), (('obra', 'de', 'gobierno'), 7), (('ley', 'de', 'dios'), 7), (('económica', 'y', 'social'), 7), (('elevación', 'del', 'nivel'), 7), (('principios', 'del', 'movimiento'), 7), (('año', 'tras', 'año'), 6), (('madre', 'la', 'iglesia'), 6), (('situación', 'del', 'mundo'), 6), (('españa', 'arriba', 'españa'), 6), (('norte', 'de', 'áfrica'), 6), (('condiciones', 'de', 'vida'), 5), (('capacidad', 'de', 'consumo'), 5), (('espíritu', 'de', 'sacrificio'), 5), (('mantener', 'la', 'paz'), 5), (('fuero', 'del', 'trabajo'), 5), (('año', 'que', 'acaba'), 5), (('gracias', 'a', 'dios'), 5), (('punto', 'de', 'partida'), 5), (('fuentes', 'de', 'riqueza'), 5), (('punto', 'de', 'vista'), 5), (('tradición', 'de', 'continuidad'), 5), (('madurez', 'del', 'pueblo'), 5), (('sentido', 'de', 'responsabilidad'), 5), (('contraste', 'de', 'pareceres'), 5), (('centenares', 'de', 'millones'), 4)]\n",
            "#######################################\n",
            "Lexical data for period from 1975 to 2013\n",
            "39 total speeches\n",
            "55541 total words\n",
            "1424.128205128205 words per speech\n",
            "Frequency distribution:\n",
            "[(',', 3294), ('de', 3178), ('y', 2493), ('la', 1968), ('.', 1920), ('que', 1895), ('en', 1552), ('a', 1213), ('el', 1074), ('los', 935), ('con', 686), ('las', 560), ('para', 560), ('un', 445), ('todos', 382), ('por', 381), ('una', 362), ('del', 344), ('nuestra', 338), ('es', 322), ('se', 313), ('nos', 308), ('más', 303), ('no', 299), ('como', 285), ('españa', 279), ('su', 255), ('lo', 220), ('al', 217), ('nuestro', 215), ('sus', 204), ('españoles', 186), ('esta', 167), ('ha', 162), ('nuestros', 162), ('hemos', 158), ('mi', 157), ('año', 147), ('han', 144), ('paz', 136), ('también', 135), ('este', 131), ('sin', 129), ('cada', 125), ('sociedad', 125), ('o', 124), ('debemos', 113), ('futuro', 109), ('nuestras', 104), ('son', 97)]\n",
            "Content words frequency distribution:\n",
            "[('españa', 279), ('españoles', 186), ('año', 147), ('paz', 136), ('sociedad', 125), ('debemos', 113), ('futuro', 109), ('esfuerzo', 87), ('familia', 84), ('libertad', 81), ('quiero', 76), ('mundo', 76), ('convivencia', 75), ('vida', 74), ('progreso', 67), ('social', 67), ('instituciones', 67), ('voluntad', 66), ('constitución', 64), ('problemas', 63), ('respeto', 63), ('valores', 61), ('familias', 60), ('democracia', 60), ('solidaridad', 60), ('país', 58), ('seguridad', 58), ('bienestar', 58), ('años', 57), ('noche', 56), ('confianza', 56), ('seguir', 55), ('navidad', 54), ('justicia', 54), ('ciudadanos', 54), ('afecto', 53), ('terrorismo', 53), ('crisis', 52), ('patria', 51), ('unión', 51), ('internacional', 51), ('pueblo', 50), ('fuerzas', 50), ('europa', 50), ('sociales', 49), ('desarrollo', 49), ('unidad', 48), ('europea', 48), ('política', 46), ('esfuerzos', 46)]\n",
            "Unique words frequency distribution:\n",
            "[('navideñas', 10), ('redoblar', 9), ('marginación', 9), ('inmigración', 7), ('dedicar', 6), ('adaptación', 5), ('proseguir', 5), ('signos', 5), ('expresaros', 5), ('aquéllos', 5), ('celebramos', 5), ('felicitarnos', 5), ('búsqueda', 5), ('contribuyendo', 5), ('generosos', 5), ('empezando', 5), ('droga', 5), ('transparencia', 5), ('inocentes', 5), ('inmigrantes', 5), ('autónomas', 5), ('competitividad', 5), ('reivindicar', 5), ('orgulloso', 4), ('iberoamericanas', 4), ('culturas', 4), ('sepamos', 4), ('foros', 4), ('amparan', 4), ('respetuosa', 4), ('articular', 4), ('convoco', 4), ('continuemos', 4), ('yugoslavia', 4), ('residentes', 4), ('rechazo', 4), ('alentadores', 4), ('ética', 4), ('reiteraros', 4), ('demócratas', 4), ('vasca', 4), ('devastadores', 4), ('discapacidad', 4), ('muertes', 4), ('accidentes', 4), ('codo', 4), ('discapacitados', 4), ('estaréis', 3), ('desafío', 3), ('encarno', 3)]\n",
            "Most frequent content bigrams:\n",
            "[(('unión', 'europea'), 23), (('mejores', 'deseos'), 21), (('sociedad', 'española'), 20), (('crisis', 'económica'), 15), (('pueblo', 'español'), 14), (('fuerzas', 'armadas'), 12), (('fuerzas', 'políticas'), 11), (('respeto', 'mutuo'), 10), (('interés', 'general'), 10), (('cooperación', 'internacional'), 10), (('sentirnos', 'orgullosos'), 9), (('derechos', 'humanos'), 8), (('amplio', 'consenso'), 8), (('patria', 'común'), 7), (('sociedad', 'democrática'), 7), (('feliz', 'navidad'), 7), (('vida', 'colectiva'), 7), (('comunidad', 'internacional'), 7), (('seguir', 'trabajando'), 7), (('plena', 'confianza'), 7), (('instituciones', 'democráticas'), 6), (('política', 'económica'), 6), (('debemos', 'seguir'), 6), (('agentes', 'económicos'), 6), (('convivencia', 'democrática'), 5), (('fechas', 'navideñas'), 5), (('seres', 'queridos'), 5), (('fiestas', 'navideñas'), 5), (('seguir', 'avanzando'), 5), (('naciones', 'unidas'), 5), (('relaciones', 'internacionales'), 5), (('opinión', 'pública'), 5), (('construcción', 'europea'), 5), (('entorno', 'natural'), 5), (('violencia', 'terrorista'), 5), (('seres', 'humanos'), 5), (('veinte', 'años'), 5), (('estabilidad', 'política'), 5), (('fuerzas', 'democráticas'), 5), (('protección', 'social'), 5), (('comunidades', 'autónomas'), 5), (('firme', 'compromiso'), 5), (('redoblar', 'esfuerzos'), 5), (('familias', 'españolas'), 4), (('familia', 'española'), 4), (('vida', 'política'), 4), (('intereses', 'particulares'), 4), (('paz', 'libertad'), 4), (('felices', 'pascuas'), 4), (('tuve', 'ocasión'), 4)]\n",
            "Most frequent content trigrams:\n",
            "[(('cuerpos', 'de', 'seguridad'), 12), (('hombres', 'y', 'mujeres'), 11), (('víctimas', 'del', 'terrorismo'), 11), (('económicos', 'y', 'sociales'), 11), (('derechos', 'y', 'libertades'), 10), (('pido', 'a', 'dios'), 9), (('príncipe', 'de', 'asturias'), 9), (('noches', 'buenas', 'noches'), 9), (('deseos', 'de', 'paz'), 8), (('fiestas', 'de', 'navidad'), 7), (('altura', 'de', 'miras'), 7), (('igualdad', 'de', 'oportunidades'), 7), (('económico', 'y', 'social'), 6), (('condiciones', 'de', 'vida'), 6), (('puesto', 'de', 'manifiesto'), 6), (('deseos', 'de', 'felicidad'), 6), (('fuerzas', 'y', 'cuerpos'), 6), (('progreso', 'y', 'bienestar'), 6), (('muestras', 'de', 'afecto'), 5), (('medios', 'de', 'comunicación'), 5), (('económicas', 'y', 'sociales'), 5), (('principios', 'y', 'valores'), 5), (('afecto', 'y', 'mejores'), 5), (('rey', 'de', 'españa'), 4), (('servicio', 'a', 'españa'), 4), (('esfuerzo', 'y', 'sacrificio'), 4), (('voluntad', 'de', 'superación'), 4), (('superar', 'las', 'dificultades'), 4), (('calidad', 'de', 'vida'), 4), (('capacidad', 'de', 'diálogo'), 4), (('resolver', 'los', 'problemas'), 4), (('fuerzas', 'de', 'seguridad'), 4), (('futuro', 'de', 'españa'), 4), (('proceso', 'de', 'integración'), 4), (('económica', 'y', 'social'), 4), (('confianza', 'en', 'españa'), 4), (('expresar', 'mi', 'reconocimiento'), 4), (('pluralidad', 'y', 'diversidad'), 4), (('españa', 'un', 'país'), 4), (('armadas', 'y', 'cuerpos'), 4), (('justo', 'y', 'solidario'), 4), (('reivindicar', 'la', 'política'), 4), (('mensaje', 'de', 'paz'), 3), (('sienten', 'la', 'nostalgia'), 3), (('proclamación', 'como', 'rey'), 3), (('motivos', 'para', 'sentirnos'), 3), (('año', 'que', 'termina'), 3), (('dedicar', 'un', 'recuerdo'), 3), (('libertad', 'y', 'prosperidad'), 3), (('concluir', 'este', 'año'), 3)]\n",
            "#######################################\n",
            "Lexical data for period from 2014 to 2019\n",
            "6 total speeches\n",
            "10569 total words\n",
            "1761.5 words per speech\n",
            "Frequency distribution:\n",
            "[(',', 659), ('y', 576), ('de', 524), ('que', 387), ('.', 347), ('la', 341), ('en', 268), ('el', 187), ('a', 183), ('los', 154), ('una', 113), ('con', 108), ('nuestra', 101), (';', 98), ('para', 93), ('es', 88), ('las', 86), ('un', 83), ('no', 74), ('lo', 74), ('por', 63), ('españa', 62), ('todos', 56), ('como', 55), ('nuestro', 53), ('nos', 49), ('se', 48), ('también', 48), ('todo', 47), ('más', 45), ('hemos', 41), ('su', 38), ('o', 37), ('nuestros', 36), ('del', 36), ('sociedad', 36), ('nuestras', 36), ('debemos', 34), ('convivencia', 33), ('al', 32), ('muy', 31), ('futuro', 30), ('porque', 30), ('son', 30), ('sin', 29), ('pero', 29), ('españoles', 29), ('hoy', 28), ('ha', 28), ('historia', 27)]\n",
            "Content words frequency distribution:\n",
            "[('españa', 62), ('sociedad', 36), ('debemos', 34), ('convivencia', 33), ('futuro', 30), ('españoles', 29), ('historia', 27), ('vida', 24), ('ciudadanos', 23), ('mundo', 22), ('quiero', 20), ('país', 20), ('valores', 19), ('confianza', 18), ('año', 18), ('respeto', 17), ('noche', 17), ('voluntad', 16), ('familias', 16), ('jóvenes', 16), ('tiempos', 14), ('responsabilidad', 14), ('años', 14), ('duda', 14), ('juntos', 14), ('espíritu', 13), ('realidad', 13), ('sentimientos', 12), ('política', 12), ('común', 12), ('camino', 12), ('deseo', 11), ('navidad', 11), ('problemas', 11), ('sociales', 11), ('seguir', 11), ('constitución', 11), ('progreso', 11), ('libertad', 11), ('social', 10), ('democrática', 10), ('mujeres', 10), ('tiempo', 10), ('esperanza', 10), ('especialmente', 10), ('instituciones', 10), ('democracia', 10), ('noches', 9), ('gracias', 9), ('principios', 9)]\n",
            "Unique words frequency distribution:\n",
            "[('empobrecimiento', 3), ('necesitábamos', 2), ('desfavorecidas', 2), ('regenerar', 2), ('catalanes', 2), ('fracturas', 2), ('discurso', 2), ('escucharme', 2), ('expresada', 2), ('administrar', 2), ('fortaleceremos', 2), ('diputados', 2), ('decirlo', 2), ('garantizan', 2), ('forjarla', 2), ('xxi', 2), ('permitáis', 2), ('creativo', 2), ('acelerados', 2), ('abrirme', 1), ('alejan', 1), ('mencionado', 1), ('malestar', 1), ('afirmé', 1), ('echen', 1), ('reproducir', 1), ('empañe', 1), ('suscitan', 1), ('cortar', 1), ('contemplaciones', 1), ('frustran', 1), ('magnitudes', 1), ('macroeconómicas', 1), ('generarse', 1), ('trabajen', 1), ('ratificó', 1), ('reconoció', 1), ('convivido', 1), ('complementarios', 1), ('desafectos', 1), ('rechazos', 1), ('distanciar', 1), ('desencuentros', 1), ('sentimentales', 1), ('reencontrémonos', 1), ('genere', 1), ('abdicación', 1), ('apreciado', 1), ('miradas', 1), ('proyectan', 1)]\n",
            "Most frequent content bigrams:\n",
            "[(('feliz', 'navidad'), 6), (('eguberri', 'on'), 6), (('on', 'bon'), 6), (('bon', 'nadal'), 6), (('boas', 'festas'), 6), (('crisis', 'económica'), 5), (('convivencia', 'democrática'), 5), (('infanta', 'sofía'), 5), (('navidad', 'eguberri'), 5), (('nadal', 'boas'), 5), (('debemos', 'seguir'), 4), (('cohesión', 'social'), 4), (('pueblo', 'español'), 4), (('vivimos', 'tiempos'), 4), (('cambio', 'climático'), 4), (('servidores', 'públicos'), 3), (('quiero', 'terminar'), 3), (('debemos', 'olvidar'), 3), (('princesa', 'leonor'), 3), (('progreso', 'político'), 3), (('interés', 'general'), 3), (('unión', 'europea'), 3), (('voluntad', 'decidida'), 3), (('seres', 'queridos'), 3), (('seguir', 'construyendo'), 3), (('mejores', 'sentimientos'), 2), (('tiempos', 'complejos'), 2), (('sociedad', 'democrática'), 2), (('valores', 'cívicos'), 2), (('vida', 'colectiva'), 2), (('intereses', 'generales'), 2), (('dinero', 'público'), 2), (('quiero', 'hablaros'), 2), (('crecimiento', 'económico'), 2), (('políticos', 'económicos'), 2), (('quiero', 'referirme'), 2), (('soberanía', 'nacional'), 2), (('esperanza', 'regenerar'), 2), (('vida', 'política'), 2), (('política', 'recuperar'), 2), (('instituciones', 'garantizar'), 2), (('tareas', 'sencillas'), 2), (('retos', 'fáciles'), 2), (('espíritu', 'constitucional'), 2), (('estabilidad', 'política'), 2), (('conseguido', 'juntos'), 2), (('debemos', 'valorar'), 2), (('política', 'basada'), 2), (('vocación', 'universal'), 2), (('proyecto', 'europeo'), 2)]\n",
            "Most frequent content trigrams:\n",
            "[(('hombres', 'y', 'mujeres'), 7), (('eguberri', 'on', 'bon'), 6), (('on', 'bon', 'nadal'), 6), (('feliz', 'navidad', 'eguberri'), 5), (('navidad', 'eguberri', 'on'), 5), (('bon', 'nadal', 'boas'), 5), (('nadal', 'boas', 'festas'), 5), (('festas', 'buenas', 'noches'), 4), (('voluntad', 'de', 'entendimiento'), 4), (('transmitiros', 'un', 'mensaje'), 3), (('mensaje', 'de', 'esperanza'), 3), (('paso', 'a', 'paso'), 3), (('derechos', 'y', 'libertades'), 3), (('vida', 'en', 'común'), 3), (('noches', 'y', 'feliz'), 3), (('feliz', 'y', 'próspero'), 3), (('principios', 'y', 'valores'), 3), (('generaciones', 'más', 'jóvenes'), 3), (('complejos', 'y', 'difíciles'), 2), (('económicos', 'y', 'sociales'), 2), (('personas', 'más', 'desfavorecidas'), 2), (('terminar', 'mis', 'palabras'), 2), (('palabras', 'sin', 'transmitiros'), 2), (('regenerar', 'nuestra', 'vida'), 2), (('vida', 'política', 'recuperar'), 2), (('recuperar', 'la', 'confianza'), 2), (('bienestar', 'y', 'preservar'), 2), (('preservar', 'nuestra', 'unidad'), 2), (('superar', 'sin', 'duda'), 2), (('duda', 'estoy', 'convencido'), 2), (('capacidad', 'y', 'coraje'), 2), (('coraje', 'de', 'sobra'), 2), (('millones', 'de', 'españoles'), 2), (('ilusión', 'y', 'confianza'), 2), (('valorar', 'con', 'orgullo'), 2), (('libres', 'y', 'democráticas'), 2), (('discurso', 'de', 'proclamación'), 2), (('abierta', 'al', 'mundo'), 2), (('princesa', 'de', 'asturias'), 2), (('hijas', 'la', 'princesa'), 2), (('razones', 'y', 'compartiendo'), 2), (('compartiendo', 'estos', 'sentimientos'), 2), (('sentimientos', 'haremos', 'honor'), 2), (('responsabilidad', 'de', 'administrar'), 2), (('administrar', 'y', 'fortaleceremos'), 2), (('fortaleceremos', 'nuestra', 'cohesión'), 2), (('imprescindible', 'para', 'impulsar'), 2), (('impulsar', 'nuestro', 'progreso'), 2), (('progreso', 'político', 'cívico'), 2), (('cívico', 'y', 'moral'), 2)]\n",
            "#######################################\n",
            "Lexical data for period from 2020 to 2020\n",
            "1 total speeches\n",
            "1895 total words\n",
            "1895.0 words per speech\n",
            "Frequency distribution:\n",
            "[('y', 101), (',', 97), ('de', 78), ('.', 74), ('que', 61), ('en', 59), ('la', 53), ('a', 38), ('el', 34), ('con', 33), ('los', 32), (';', 24), ('las', 23), ('una', 23), ('un', 19), ('nuestra', 16), ('es', 15), ('no', 13), ('para', 13), ('nos', 13), ('por', 12), ('o', 12), ('todos', 12), ('ha', 12), ('lo', 12), ('gran', 10), ('su', 10), ('esta', 9), ('como', 9), ('todo', 9), ('también', 9), ('nuestro', 9), ('sociedad', 9), ('nuestros', 7), ('sus', 7), ('más', 7), ('tanto', 7), ('ciudadanos', 6), ('mi', 6), ('nuestras', 6), ('situación', 6), ('pero', 6), ('ser', 6), ('esfuerzo', 6), ('españa', 6), ('pandemia', 5), ('muy', 5), ('virus', 5), ('del', 5), ('ello', 5)]\n",
            "Content words frequency distribution:\n",
            "[('sociedad', 9), ('ciudadanos', 6), ('situación', 6), ('esfuerzo', 6), ('españa', 6), ('pandemia', 5), ('virus', 5), ('crisis', 5), ('país', 5), ('ánimo', 4), ('económica', 4), ('contamos', 4), ('principios', 4), ('viviendo', 3), ('familias', 3), ('habéis', 3), ('miles', 3), ('especialmente', 3), ('año', 3), ('economía', 3), ('empresas', 3), ('vida', 3), ('seguridad', 3), ('unidos', 3), ('esperanza', 3), ('convivencia', 3), ('gracias', 3), ('lucha', 3), ('importante', 3), ('frente', 3), ('personas', 3), ('servicios', 3), ('meses', 3), ('trabajo', 3), ('compromiso', 3), ('tiempo', 3), ('unión', 3), ('historia', 3), ('pensado', 2), ('hogares', 2), ('respeto', 2), ('enfermedad', 2), ('hospitales', 2), ('afecto', 2), ('difícil', 2), ('tristeza', 2), ('angustia', 2), ('desempleo', 2), ('desánimo', 2), ('desconfianza', 2)]\n",
            "Unique words frequency distribution:\n",
            "[('pensado', 2), ('reunir', 1), ('teníais', 1), ('fallecimiento', 1), ('irrumpido', 1), ('trayendo', 1), ('precariedad', 1), ('negocio', 1), ('doblegar', 1), ('tratamientos', 1), ('prevenidos', 1), ('extremas', 1), ('desbordamiento', 1), ('derive', 1), ('profesionalmente', 1), ('golpeados', 1), ('anime', 1), ('desamparado', 1), ('sobrellevado', 1), ('reforzados', 1), ('emergencias', 1), ('sintonía', 1), ('ue', 1), ('referí', 1), ('excepciones', 1), ('entendido', 1), ('coherencia', 1), ('resigne', 1), ('saldrá', 1), ('mejore', 1), ('aulas', 1), ('plazas', 1), ('barrios', 1), ('bares', 1), ('cines', 1), ('teatros', 1)]\n",
            "Most frequent content bigrams:\n",
            "[(('convivencia', 'democrática'), 2), (('crisis', 'económica'), 2), (('circunstancias', 'verdaderamente'), 1), (('verdaderamente', 'excepcionales'), 1), (('habéis', 'podido'), 1), (('podido', 'reunir'), 1), (('teníais', 'pensado'), 1), (('medidas', 'sanitarias'), 1), (('vacío', 'imposible'), 1), (('seres', 'queridos'), 1), (('ciudadanos', 'lucháis'), 1), (('envío', 'especialmente'), 1), (('vidas', 'trayendo'), 1), (('trayendo', 'sufrimiento'), 1), (('sufrimiento', 'tristeza'), 1), (('afectado', 'gravemente'), 1), (('familias', 'vivís'), 1), (('necesidades', 'básicas'), 1), (('habéis', 'dedicado'), 1), (('desconfianza', 'estén'), 1), (('tantos', 'hogares'), 1), (('situación', 'sanitaria'), 1), (('enfermedad', 'llegará'), 1), (('llegará', 'gracias'), 1), (('responsabilidad', 'individual'), 1), (('instrumento', 'efectivo'), 1), (('importante', 'mantenernos'), 1), (('mantenernos', 'prevenidos'), 1), (('enorme', 'esfuerzo'), 1), (('extraordinaria', 'profesionalidad'), 1), (('situaciones', 'extremas'), 1), (('siguen', 'afrontando'), 1), (('carga', 'emocional'), 1), (('sigan', 'cuidando'), 1), (('crisis', 'social'), 1), (('persona', 'importa'), 1), (('preocupación', 'fundamental'), 1), (('fundamental', 'especialmente'), 1), (('juventud', 'merece'), 1), (('adecuada', 'crecer'), 1), (('crecer', 'personal'), 1), (('proyectos', 'españa'), 1), (('generación', 'perdida'), 1), (('perdida', 'proteger'), 1), (('comunidad', 'política'), 1), (('fundamental', 'recuperar'), 1), (('decisivo', 'fortalecer'), 1), (('tejido', 'empresarial'), 1), (('productivo', 'industrial'), 1), (('crear', 'empleo'), 1)]\n",
            "Most frequent content trigrams:\n",
            "[(('miles', 'de', 'ciudadanos'), 2), (('noches', 'me', 'dirijo'), 1), (('viviendo', 'unas', 'circunstancias'), 1), (('circunstancias', 'verdaderamente', 'excepcionales'), 1), (('pandemia', 'muchas', 'familias'), 1), (('habéis', 'podido', 'reunir'), 1), (('reunir', 'esta', 'noche'), 1), (('noche', 'como', 'teníais'), 1), (('miles', 'de', 'hogares'), 1), (('imposible', 'de', 'llenar'), 1), (('quiero', 'ahora', 'recordar'), 1), (('recordar', 'con', 'emoción'), 1), (('respeto', 'un', 'recuerdo'), 1), (('recuerdo', 'que', 'llena'), 1), (('llena', 'de', 'sentimientos'), 1), (('sentimientos', 'muy', 'profundos'), 1), (('profundos', 'nuestros', 'corazones'), 1), (('momentos', 'muchos', 'ciudadanos'), 1), (('casas', 'en', 'hospitales'), 1), (('ánimo', 'y', 'afecto'), 1), (('año', 'muy', 'duro'), 1), (('duro', 'y', 'difícil'), 1), (('difícil', 'el', 'virus'), 1), (('virus', 'ha', 'irrumpido'), 1), (('vidas', 'trayendo', 'sufrimiento'), 1), (('trayendo', 'sufrimiento', 'tristeza'), 1), (('tristeza', 'o', 'temor'), 1), (('temor', 'ha', 'alterado'), 1), (('vivir', 'y', 'trabajar'), 1), (('economía', 'incluso', 'paralizando'), 1), (('paralizando', 'o', 'destruyendo'), 1), (('destruyendo', 'muchas', 'empresas'), 1), (('empresas', 'muchos', 'ciudadanos'), 1), (('ciudadanos', 'y', 'familias'), 1), (('vivís', 'la', 'angustia'), 1), (('angustia', 'del', 'desempleo'), 1), (('precariedad', 'la', 'angustia'), 1), (('llegar', 'a', 'cubrir'), 1), (('cubrir', 'las', 'necesidades'), 1), (('básicas', 'o', 'sentís'), 1), (('sentís', 'la', 'tristeza'), 1), (('abandonar', 'un', 'negocio'), 1), (('dedicado', 'vuestra', 'vida'), 1), (('lógico', 'y', 'comprensible'), 1), (('estén', 'muy', 'presentes'), 1), (('presentes', 'en', 'tantos'), 1), (('crisis', 'tan', 'seria'), 1), (('desconfianza', 'la', 'situación'), 1), (('situación', 'es', 'grave'), 1), (('afrontar', 'el', 'futuro'), 1)]\n",
            "#######################################\n"
          ]
        }
      ]
    },
    {
      "cell_type": "code",
      "source": [
        "corpus = create_corpus(1937,1964)"
      ],
      "metadata": {
        "colab": {
          "base_uri": "https://localhost:8080/"
        },
        "id": "CFP6OZJd3zN4",
        "outputId": "c6246ce5-f77a-470a-d1dc-e7c332e9c43d"
      },
      "execution_count": 38,
      "outputs": [
        {
          "output_type": "stream",
          "name": "stdout",
          "text": [
            "No speech for year 1940\n",
            "No speech for year 1941\n",
            "No speech for year 1942\n",
            "No speech for year 1943\n",
            "No speech for year 1944\n",
            "No speech for year 1945\n"
          ]
        }
      ]
    },
    {
      "cell_type": "code",
      "source": [
        "corpus.unique_words_freq()"
      ],
      "metadata": {
        "id": "sOLHz7Zt4-kL",
        "outputId": "5bb54a69-8a68-4752-a199-227433d45811",
        "colab": {
          "base_uri": "https://localhost:8080/"
        }
      },
      "execution_count": 39,
      "outputs": [
        {
          "output_type": "execute_result",
          "data": {
            "text/plain": [
              "[('cruzada', 44),\n",
              " ('rusia', 25),\n",
              " ('agrícola', 24),\n",
              " ('pagos', 23),\n",
              " ('materias', 22),\n",
              " ('procedimientos', 22),\n",
              " ('liberación', 19),\n",
              " ('enemigo', 19),\n",
              " ('producciones', 19),\n",
              " ('primas', 18),\n",
              " ('viejo', 18),\n",
              " ('fué', 18),\n",
              " ('reconstrucción', 17),\n",
              " ('multiplicación', 15),\n",
              " ('colonización', 14),\n",
              " ('fría', 14),\n",
              " ('acero', 13),\n",
              " ('caridad', 13),\n",
              " ('conjura', 13),\n",
              " ('mala', 12),\n",
              " ('eternos', 12),\n",
              " ('esclavitud', 12),\n",
              " ('acusa', 11),\n",
              " ('agrícolas', 11),\n",
              " ('importación', 10),\n",
              " ('examen', 10),\n",
              " ('registra', 10),\n",
              " ('liberales', 10),\n",
              " ('telón', 10),\n",
              " ('contienda', 10),\n",
              " ('trance', 10),\n",
              " ('desenvolvimiento', 10),\n",
              " ('divina', 10),\n",
              " ('industrialización', 10),\n",
              " ('desnivel', 9),\n",
              " ('abonos', 9),\n",
              " ('repoblación', 9),\n",
              " ('inmediato', 9),\n",
              " ('ejecución', 9),\n",
              " ('muertos', 9),\n",
              " ('puso', 9),\n",
              " ('hubiéramos', 9),\n",
              " ('centrales', 9),\n",
              " ('sindicato', 9),\n",
              " ('habría', 9),\n",
              " ('revolucionaria', 9),\n",
              " ('principalmente', 9),\n",
              " ('obrar', 9),\n",
              " ('victorias', 8),\n",
              " ('comarcas', 8)]"
            ]
          },
          "metadata": {},
          "execution_count": 39
        }
      ]
    }
  ]
}