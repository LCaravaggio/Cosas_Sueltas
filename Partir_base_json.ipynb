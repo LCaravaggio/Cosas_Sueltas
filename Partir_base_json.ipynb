{
  "nbformat": 4,
  "nbformat_minor": 0,
  "metadata": {
    "colab": {
      "provenance": [],
      "authorship_tag": "ABX9TyMQ+N5q5k0CVaxjt5Nr71fS",
      "include_colab_link": true
    },
    "kernelspec": {
      "name": "python3",
      "display_name": "Python 3"
    },
    "language_info": {
      "name": "python"
    }
  },
  "cells": [
    {
      "cell_type": "markdown",
      "metadata": {
        "id": "view-in-github",
        "colab_type": "text"
      },
      "source": [
        "<a href=\"https://colab.research.google.com/github/LCaravaggio/Cosas_Sueltas/blob/main/Partir_base_json.ipynb\" target=\"_parent\"><img src=\"https://colab.research.google.com/assets/colab-badge.svg\" alt=\"Open In Colab\"/></a>"
      ]
    },
    {
      "cell_type": "code",
      "execution_count": 1,
      "metadata": {
        "id": "91gi5vpnVXBf"
      },
      "outputs": [],
      "source": [
        "import pandas as pd"
      ]
    },
    {
      "cell_type": "code",
      "source": [
        "import json\n",
        "from sklearn.model_selection import train_test_split"
      ],
      "metadata": {
        "id": "Dr6juTyPVlWo"
      },
      "execution_count": 4,
      "outputs": []
    },
    {
      "cell_type": "code",
      "source": [
        "import json\n",
        "import csv\n",
        "from sklearn.model_selection import train_test_split\n",
        "\n",
        "# Leer el archivo JSONLines\n",
        "with open('/content/MLA_100k_checked_v3.jsonlines') as f:\n",
        "    lines = [json.loads(line) for line in f]\n",
        "\n",
        "# Dividir los datos en conjuntos de entrenamiento y prueba\n",
        "train, test = train_test_split(lines, test_size=0.3)\n",
        "\n",
        "# Extraer la columna \"Condition\" del conjunto de prueba\n",
        "condition_column = [entry.pop('Condition') for entry in test if 'Condition' in entry]\n",
        "\n",
        "# Guardar la columna \"Condition\" en un archivo CSV\n",
        "with open('/content/test_condition_column.csv', 'w', newline='') as outfile:\n",
        "    writer = csv.writer(outfile)\n",
        "    writer.writerow(['Condition'])  # Escribir el encabezado de la columna\n",
        "    for condition in condition_column:\n",
        "        writer.writerow([condition])\n",
        "\n",
        "# Guardar los conjuntos de entrenamiento y prueba en archivos separados\n",
        "with open('/content/train.jsonlines', 'w') as outfile:\n",
        "    for entry in train:\n",
        "        json.dump(entry, outfile)\n",
        "        outfile.write('\\n')\n",
        "\n",
        "with open('/content/test.jsonlines', 'w') as outfile:\n",
        "    for entry in test:\n",
        "        json.dump(entry, outfile)\n",
        "        outfile.write('\\n')\n",
        "\n",
        "print(\"Conjuntos de datos guardados y columna 'Condition' extraída.\")"
      ],
      "metadata": {
        "colab": {
          "base_uri": "https://localhost:8080/"
        },
        "id": "vc2p8KaPWqpH",
        "outputId": "41b12c3a-568b-4dcd-a82a-71f6a29ec715"
      },
      "execution_count": 10,
      "outputs": [
        {
          "output_type": "stream",
          "name": "stdout",
          "text": [
            "Conjuntos de datos guardados y columna 'Condition' extraída.\n"
          ]
        }
      ]
    },
    {
      "cell_type": "code",
      "source": [
        "import csv\n",
        "\n",
        "# Leer el archivo CSV original\n",
        "with open('/content/test_condition_column.csv', 'r') as infile:\n",
        "    reader = list(csv.reader(infile))\n",
        "    header = reader[0]\n",
        "    data = reader[1:]\n",
        "\n",
        "# Asegurarse de que hay al menos 300,000 valores en data\n",
        "if len(data) < 300000:\n",
        "    raise ValueError(\"El archivo no contiene suficientes filas (se requieren al menos 300,000)\")\n",
        "\n",
        "# Agregar la columna \"Usage\" con los valores correspondientes\n",
        "header.append('Usage')\n",
        "for i, row in enumerate(data):\n",
        "    if i < 200000:\n",
        "        row.append('Public')\n",
        "    else:\n",
        "        row.append('Private')\n",
        "\n",
        "# Guardar el archivo CSV actualizado\n",
        "with open('/content/test_condition_column.csv', 'w', newline='') as outfile:\n",
        "    writer = csv.writer(outfile)\n",
        "    writer.writerow(header)\n",
        "    writer.writerows(data)\n",
        "\n",
        "print(\"Columna 'Usage' agregada y archivo guardado como 'test_condition_column.csv'\")"
      ],
      "metadata": {
        "id": "9Gp9ppp2RPEB"
      },
      "execution_count": null,
      "outputs": []
    },
    {
      "cell_type": "code",
      "source": [
        "pd.read_json('/content/test_condition_column.json', lines=True)"
      ],
      "metadata": {
        "colab": {
          "base_uri": "https://localhost:8080/",
          "height": 141
        },
        "id": "0eNWyXnbic2S",
        "outputId": "e4cbcf94-4602-44bb-ba49-28e4c1ae9f05"
      },
      "execution_count": 1,
      "outputs": [
        {
          "output_type": "error",
          "ename": "NameError",
          "evalue": "name 'pd' is not defined",
          "traceback": [
            "\u001b[0;31m---------------------------------------------------------------------------\u001b[0m",
            "\u001b[0;31mNameError\u001b[0m                                 Traceback (most recent call last)",
            "\u001b[0;32m<ipython-input-1-8aac9e0b6609>\u001b[0m in \u001b[0;36m<cell line: 1>\u001b[0;34m()\u001b[0m\n\u001b[0;32m----> 1\u001b[0;31m \u001b[0mpd\u001b[0m\u001b[0;34m.\u001b[0m\u001b[0mread_json\u001b[0m\u001b[0;34m(\u001b[0m\u001b[0;34m'/content/test_condition_column.json'\u001b[0m\u001b[0;34m,\u001b[0m \u001b[0mlines\u001b[0m\u001b[0;34m=\u001b[0m\u001b[0;32mTrue\u001b[0m\u001b[0;34m)\u001b[0m\u001b[0;34m\u001b[0m\u001b[0;34m\u001b[0m\u001b[0m\n\u001b[0m",
            "\u001b[0;31mNameError\u001b[0m: name 'pd' is not defined"
          ]
        }
      ]
    }
  ]
}