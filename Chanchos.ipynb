{
  "nbformat": 4,
  "nbformat_minor": 0,
  "metadata": {
    "colab": {
      "provenance": [],
      "include_colab_link": true
    },
    "kernelspec": {
      "name": "python3",
      "display_name": "Python 3"
    },
    "language_info": {
      "name": "python"
    }
  },
  "cells": [
    {
      "cell_type": "markdown",
      "metadata": {
        "id": "view-in-github",
        "colab_type": "text"
      },
      "source": [
        "<a href=\"https://colab.research.google.com/github/LCaravaggio/Cosas_Sueltas/blob/main/Chanchos.ipynb\" target=\"_parent\"><img src=\"https://colab.research.google.com/assets/colab-badge.svg\" alt=\"Open In Colab\"/></a>"
      ]
    },
    {
      "cell_type": "code",
      "execution_count": null,
      "metadata": {
        "id": "qvEUqQ-WN9bq"
      },
      "outputs": [],
      "source": [
        "import random\n",
        "import numpy as np"
      ]
    },
    {
      "cell_type": "markdown",
      "source": [
        "Tengo que crear un modelo de Montecarlo para explicar este juego. Tengo que armar una casita en base de como sale un dado. 1: Frente; 2: Fondo; 3 y 4: laterales; 5 techo; y 6 lobo. Se tira el dado hasta que alguien saque 1 y se arranc. Cada jugador coloca una pieza de la casa a medida que sale su numero, si el numero ya salio se pierde el turno. Si sale el 5 (techo) y no salieron del 1 al 4 antes, pierdo el turno. Si sale 6 se quita una de las piezas ya colocadas."
      ],
      "metadata": {
        "id": "QUvjr24CR8Ab"
      }
    },
    {
      "cell_type": "markdown",
      "source": [
        "RULE BOOK OFICIAL: https://ruibalgames.com/wp-content/uploads/2015/10/Reglas-de-juego-Los-Chanchitos-Constructores.pdf\n"
      ],
      "metadata": {
        "id": "y4eRcyyUhIpA"
      }
    },
    {
      "cell_type": "code",
      "source": [
        "def simulate_game(num_players):\n",
        "    n = 0\n",
        "    sacadas = [set() for _ in range(num_players)]\n",
        "    last_tiro = [None] * num_players\n",
        "    while True:\n",
        "        # Roll the dice for each player\n",
        "        for i in range(num_players):\n",
        "            tiro = np.random.randint(1, 7)\n",
        "            if tiro == 5 and not sacadas[i].issuperset({1, 2, 3, 4}):\n",
        "                continue\n",
        "            elif tiro in range(1, 5) and tiro not in sacadas[i]:\n",
        "                sacadas[i].add(tiro)\n",
        "                last_tiro[i] = tiro\n",
        "            elif tiro == 6 and sacadas[i]:\n",
        "                sacadas[i].discard(last_tiro[i])\n",
        "        # Check if any player has completed the set\n",
        "        if all(len(s) == 5 for s in sacadas):\n",
        "            break\n",
        "        n += 1\n",
        "    return n\n",
        "\n",
        "num_players = 4\n",
        "results = [simulate_game(num_players) for _ in range(1)]\n",
        "mean_rolls = np.mean(results)\n",
        "min_rolls = np.min(results)\n",
        "max_rolls = np.max(results)\n",
        "std_rolls = np.std(results)\n",
        "\n",
        "print(f\"Mean rolls for {num_players} players: {mean_rolls:.2f}\")\n",
        "print(f\"Minimum rolls for {num_players} players: {min_rolls}\")\n",
        "print(f\"Maximum rolls for {num_players} players: {max_rolls}\")\n",
        "print(f\"Standard deviation for {num_players} players: {std_rolls:.2f}\")\n",
        "\n"
      ],
      "metadata": {
        "colab": {
          "base_uri": "https://localhost:8080/",
          "height": 380
        },
        "id": "BoaOAIaoWhnt",
        "outputId": "11d54670-9d8a-4e5a-ec93-42cab4cec77b"
      },
      "execution_count": null,
      "outputs": [
        {
          "output_type": "error",
          "ename": "KeyboardInterrupt",
          "evalue": "ignored",
          "traceback": [
            "\u001b[0;31m---------------------------------------------------------------------------\u001b[0m",
            "\u001b[0;31mKeyboardInterrupt\u001b[0m                         Traceback (most recent call last)",
            "\u001b[0;32m<ipython-input-8-fef5fa1bd17e>\u001b[0m in \u001b[0;36m<module>\u001b[0;34m\u001b[0m\n\u001b[1;32m     21\u001b[0m \u001b[0;34m\u001b[0m\u001b[0m\n\u001b[1;32m     22\u001b[0m \u001b[0mnum_players\u001b[0m \u001b[0;34m=\u001b[0m \u001b[0;36m4\u001b[0m\u001b[0;34m\u001b[0m\u001b[0;34m\u001b[0m\u001b[0m\n\u001b[0;32m---> 23\u001b[0;31m \u001b[0mresults\u001b[0m \u001b[0;34m=\u001b[0m \u001b[0;34m[\u001b[0m\u001b[0msimulate_game\u001b[0m\u001b[0;34m(\u001b[0m\u001b[0mnum_players\u001b[0m\u001b[0;34m)\u001b[0m \u001b[0;32mfor\u001b[0m \u001b[0m_\u001b[0m \u001b[0;32min\u001b[0m \u001b[0mrange\u001b[0m\u001b[0;34m(\u001b[0m\u001b[0;36m1\u001b[0m\u001b[0;34m)\u001b[0m\u001b[0;34m]\u001b[0m\u001b[0;34m\u001b[0m\u001b[0;34m\u001b[0m\u001b[0m\n\u001b[0m\u001b[1;32m     24\u001b[0m \u001b[0mmean_rolls\u001b[0m \u001b[0;34m=\u001b[0m \u001b[0mnp\u001b[0m\u001b[0;34m.\u001b[0m\u001b[0mmean\u001b[0m\u001b[0;34m(\u001b[0m\u001b[0mresults\u001b[0m\u001b[0;34m)\u001b[0m\u001b[0;34m\u001b[0m\u001b[0;34m\u001b[0m\u001b[0m\n\u001b[1;32m     25\u001b[0m \u001b[0mmin_rolls\u001b[0m \u001b[0;34m=\u001b[0m \u001b[0mnp\u001b[0m\u001b[0;34m.\u001b[0m\u001b[0mmin\u001b[0m\u001b[0;34m(\u001b[0m\u001b[0mresults\u001b[0m\u001b[0;34m)\u001b[0m\u001b[0;34m\u001b[0m\u001b[0;34m\u001b[0m\u001b[0m\n",
            "\u001b[0;32m<ipython-input-8-fef5fa1bd17e>\u001b[0m in \u001b[0;36m<listcomp>\u001b[0;34m(.0)\u001b[0m\n\u001b[1;32m     21\u001b[0m \u001b[0;34m\u001b[0m\u001b[0m\n\u001b[1;32m     22\u001b[0m \u001b[0mnum_players\u001b[0m \u001b[0;34m=\u001b[0m \u001b[0;36m4\u001b[0m\u001b[0;34m\u001b[0m\u001b[0;34m\u001b[0m\u001b[0m\n\u001b[0;32m---> 23\u001b[0;31m \u001b[0mresults\u001b[0m \u001b[0;34m=\u001b[0m \u001b[0;34m[\u001b[0m\u001b[0msimulate_game\u001b[0m\u001b[0;34m(\u001b[0m\u001b[0mnum_players\u001b[0m\u001b[0;34m)\u001b[0m \u001b[0;32mfor\u001b[0m \u001b[0m_\u001b[0m \u001b[0;32min\u001b[0m \u001b[0mrange\u001b[0m\u001b[0;34m(\u001b[0m\u001b[0;36m1\u001b[0m\u001b[0;34m)\u001b[0m\u001b[0;34m]\u001b[0m\u001b[0;34m\u001b[0m\u001b[0;34m\u001b[0m\u001b[0m\n\u001b[0m\u001b[1;32m     24\u001b[0m \u001b[0mmean_rolls\u001b[0m \u001b[0;34m=\u001b[0m \u001b[0mnp\u001b[0m\u001b[0;34m.\u001b[0m\u001b[0mmean\u001b[0m\u001b[0;34m(\u001b[0m\u001b[0mresults\u001b[0m\u001b[0;34m)\u001b[0m\u001b[0;34m\u001b[0m\u001b[0;34m\u001b[0m\u001b[0m\n\u001b[1;32m     25\u001b[0m \u001b[0mmin_rolls\u001b[0m \u001b[0;34m=\u001b[0m \u001b[0mnp\u001b[0m\u001b[0;34m.\u001b[0m\u001b[0mmin\u001b[0m\u001b[0;34m(\u001b[0m\u001b[0mresults\u001b[0m\u001b[0;34m)\u001b[0m\u001b[0;34m\u001b[0m\u001b[0;34m\u001b[0m\u001b[0m\n",
            "\u001b[0;32m<ipython-input-8-fef5fa1bd17e>\u001b[0m in \u001b[0;36msimulate_game\u001b[0;34m(num_players)\u001b[0m\n\u001b[1;32m      6\u001b[0m         \u001b[0;31m# Roll the dice for each player\u001b[0m\u001b[0;34m\u001b[0m\u001b[0;34m\u001b[0m\u001b[0m\n\u001b[1;32m      7\u001b[0m         \u001b[0;32mfor\u001b[0m \u001b[0mi\u001b[0m \u001b[0;32min\u001b[0m \u001b[0mrange\u001b[0m\u001b[0;34m(\u001b[0m\u001b[0mnum_players\u001b[0m\u001b[0;34m)\u001b[0m\u001b[0;34m:\u001b[0m\u001b[0;34m\u001b[0m\u001b[0;34m\u001b[0m\u001b[0m\n\u001b[0;32m----> 8\u001b[0;31m             \u001b[0mtiro\u001b[0m \u001b[0;34m=\u001b[0m \u001b[0mnp\u001b[0m\u001b[0;34m.\u001b[0m\u001b[0mrandom\u001b[0m\u001b[0;34m.\u001b[0m\u001b[0mrandint\u001b[0m\u001b[0;34m(\u001b[0m\u001b[0;36m1\u001b[0m\u001b[0;34m,\u001b[0m \u001b[0;36m7\u001b[0m\u001b[0;34m)\u001b[0m\u001b[0;34m\u001b[0m\u001b[0;34m\u001b[0m\u001b[0m\n\u001b[0m\u001b[1;32m      9\u001b[0m             \u001b[0;32mif\u001b[0m \u001b[0mtiro\u001b[0m \u001b[0;34m==\u001b[0m \u001b[0;36m5\u001b[0m \u001b[0;32mand\u001b[0m \u001b[0;32mnot\u001b[0m \u001b[0msacadas\u001b[0m\u001b[0;34m[\u001b[0m\u001b[0mi\u001b[0m\u001b[0;34m]\u001b[0m\u001b[0;34m.\u001b[0m\u001b[0missuperset\u001b[0m\u001b[0;34m(\u001b[0m\u001b[0;34m{\u001b[0m\u001b[0;36m1\u001b[0m\u001b[0;34m,\u001b[0m \u001b[0;36m2\u001b[0m\u001b[0;34m,\u001b[0m \u001b[0;36m3\u001b[0m\u001b[0;34m,\u001b[0m \u001b[0;36m4\u001b[0m\u001b[0;34m}\u001b[0m\u001b[0;34m)\u001b[0m\u001b[0;34m:\u001b[0m\u001b[0;34m\u001b[0m\u001b[0;34m\u001b[0m\u001b[0m\n\u001b[1;32m     10\u001b[0m                 \u001b[0;32mcontinue\u001b[0m\u001b[0;34m\u001b[0m\u001b[0;34m\u001b[0m\u001b[0m\n",
            "\u001b[0;31mKeyboardInterrupt\u001b[0m: "
          ]
        }
      ]
    },
    {
      "cell_type": "code",
      "source": [
        "import numpy as np\n",
        "\n",
        "def simulate_game(num_players):\n",
        "    n = 0\n",
        "    sacadas = [set() for _ in range(num_players)]\n",
        "    last_tiro = [None] * num_players\n",
        "    while True:\n",
        "        # Tirada para cada jugador\n",
        "        for i in range(num_players):\n",
        "            tiro = np.random.randint(1, 7)\n",
        "            if tiro == 6 and sacadas[i]:\n",
        "                sacadas[i].discard(last_tiro[i])\n",
        "            elif tiro in range(1, 5):\n",
        "                if tiro not in sacadas[i]:\n",
        "                    sacadas[i].add(tiro)\n",
        "                    last_tiro[i] = tiro\n",
        "                elif 5 not in sacadas[i]:\n",
        "                    # Tira de nuevo si es necesario\n",
        "                    while tiro in sacadas[i] and 5 not in sacadas[i]:\n",
        "                        tiro = np.random.randint(1, 7)\n",
        "                    if tiro == 6 and sacadas[i]:\n",
        "                        sacadas[i].discard(last_tiro[i])\n",
        "                    elif tiro in range(1, 5):\n",
        "                        sacadas[i].add(tiro)\n",
        "                        last_tiro[i] = tiro\n",
        "            elif tiro == 5 and sacadas[i].issuperset({1, 2, 3, 4}):\n",
        "                sacadas[i].add(tiro)\n",
        "                last_tiro[i] = tiro\n",
        "                \n",
        "        # chequea si el jugador ya terminó\n",
        "        if all(len(s) == 5 for s in sacadas):\n",
        "            break\n",
        "        n += 1\n",
        "        \n",
        "    return n\n",
        "\n",
        "num_players = 4\n",
        "num_simulations = 10000\n",
        "results = [simulate_game(num_players) for _ in range(num_simulations)]\n",
        "mean_rolls = np.mean(results)\n",
        "min_rolls = np.min(results)\n",
        "max_rolls = np.max(results)\n",
        "std_rolls = np.std(results)\n",
        "\n",
        "print(f\"Mean rolls for {num_players} players: {mean_rolls:.2f}\")\n",
        "print(f\"Minimum rolls for {num_players} players: {min_rolls}\")\n",
        "print(f\"Maximum rolls for {num_players} players: {max_rolls}\")\n",
        "print(f\"Standard deviation for {num_players} players: {std_rolls:.2f}\")"
      ],
      "metadata": {
        "colab": {
          "base_uri": "https://localhost:8080/"
        },
        "id": "AQwmTx3Zphvb",
        "outputId": "2590b6de-8436-4c74-d57a-6365f4d908d2"
      },
      "execution_count": 1,
      "outputs": [
        {
          "output_type": "stream",
          "name": "stdout",
          "text": [
            "Mean rolls for 4 players: 70.15\n",
            "Minimum rolls for 4 players: 11\n",
            "Maximum rolls for 4 players: 401\n",
            "Standard deviation for 4 players: 36.44\n"
          ]
        }
      ]
    }
  ]
}